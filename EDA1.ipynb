{
 "cells": [
  {
   "cell_type": "code",
   "execution_count": 9,
   "metadata": {},
   "outputs": [],
   "source": [
    "import pandas as pd\n",
    "import numpy as np"
   ]
  },
  {
   "cell_type": "code",
   "execution_count": 12,
   "metadata": {},
   "outputs": [],
   "source": [
    "df1=pd.read_excel('2021년 1월 성별연령별 소비 증가율 상위 업종 LIST.xlsx')\n",
    "df2=pd.read_excel('2021년 2월 성별연령별 소비 증가율 상위 업종 LIST.xlsx')\n",
    "df3=pd.read_excel('2021년 3월 성별연령별 소비 증가율 상위 업종 LIST_서울.xlsx')\n",
    "df4=pd.read_excel('2021년 4월 성별연령별 소비 증가율 상위 업종 LIST_전국.xlsx')\n",
    "df5=pd.read_excel('2021년 5월 성별연령별 소비 증가율 상위 업종 LIST_전국.xlsx')\n",
    "df6=pd.read_excel('2021년 6월 성별연령별 소비 증가율 상위 업종 LIST_전국.xlsx')\n",
    "df7=pd.read_excel('2021년 7월 성별연령별 소비 증가율 상위 업종 LIST_전국.xlsx')\n",
    "df8=pd.read_excel('2021년 8월 성별연령별 소비 증가율 상위 업종 LIST_전국.xlsx')"
   ]
  },
  {
   "cell_type": "code",
   "execution_count": 15,
   "metadata": {},
   "outputs": [
    {
     "data": {
      "text/html": [
       "<div>\n",
       "<style scoped>\n",
       "    .dataframe tbody tr th:only-of-type {\n",
       "        vertical-align: middle;\n",
       "    }\n",
       "\n",
       "    .dataframe tbody tr th {\n",
       "        vertical-align: top;\n",
       "    }\n",
       "\n",
       "    .dataframe thead th {\n",
       "        text-align: right;\n",
       "    }\n",
       "</style>\n",
       "<table border=\"1\" class=\"dataframe\">\n",
       "  <thead>\n",
       "    <tr style=\"text-align: right;\">\n",
       "      <th></th>\n",
       "      <th>기준년월</th>\n",
       "      <th>성별</th>\n",
       "      <th>연령대</th>\n",
       "      <th>이용 증가율 순위</th>\n",
       "      <th>업종</th>\n",
       "      <th>구분</th>\n",
       "    </tr>\n",
       "  </thead>\n",
       "  <tbody>\n",
       "    <tr>\n",
       "      <th>0</th>\n",
       "      <td>202103</td>\n",
       "      <td>남성</td>\n",
       "      <td>20대</td>\n",
       "      <td>1</td>\n",
       "      <td>주차장</td>\n",
       "      <td>전년비</td>\n",
       "    </tr>\n",
       "    <tr>\n",
       "      <th>1</th>\n",
       "      <td>202103</td>\n",
       "      <td>남성</td>\n",
       "      <td>20대</td>\n",
       "      <td>2</td>\n",
       "      <td>백화점</td>\n",
       "      <td>전년비</td>\n",
       "    </tr>\n",
       "    <tr>\n",
       "      <th>2</th>\n",
       "      <td>202103</td>\n",
       "      <td>남성</td>\n",
       "      <td>20대</td>\n",
       "      <td>3</td>\n",
       "      <td>배달앱</td>\n",
       "      <td>전년비</td>\n",
       "    </tr>\n",
       "    <tr>\n",
       "      <th>3</th>\n",
       "      <td>202103</td>\n",
       "      <td>남성</td>\n",
       "      <td>20대</td>\n",
       "      <td>4</td>\n",
       "      <td>의류</td>\n",
       "      <td>전년비</td>\n",
       "    </tr>\n",
       "    <tr>\n",
       "      <th>4</th>\n",
       "      <td>202103</td>\n",
       "      <td>남성</td>\n",
       "      <td>20대</td>\n",
       "      <td>5</td>\n",
       "      <td>양방종합</td>\n",
       "      <td>전년비</td>\n",
       "    </tr>\n",
       "    <tr>\n",
       "      <th>...</th>\n",
       "      <td>...</td>\n",
       "      <td>...</td>\n",
       "      <td>...</td>\n",
       "      <td>...</td>\n",
       "      <td>...</td>\n",
       "      <td>...</td>\n",
       "    </tr>\n",
       "    <tr>\n",
       "      <th>195</th>\n",
       "      <td>202103</td>\n",
       "      <td>여성</td>\n",
       "      <td>60대이상</td>\n",
       "      <td>6</td>\n",
       "      <td>아울렛</td>\n",
       "      <td>전월비</td>\n",
       "    </tr>\n",
       "    <tr>\n",
       "      <th>196</th>\n",
       "      <td>202103</td>\n",
       "      <td>여성</td>\n",
       "      <td>60대이상</td>\n",
       "      <td>7</td>\n",
       "      <td>백화점</td>\n",
       "      <td>전월비</td>\n",
       "    </tr>\n",
       "    <tr>\n",
       "      <th>197</th>\n",
       "      <td>202103</td>\n",
       "      <td>여성</td>\n",
       "      <td>60대이상</td>\n",
       "      <td>8</td>\n",
       "      <td>문구사무용품</td>\n",
       "      <td>전월비</td>\n",
       "    </tr>\n",
       "    <tr>\n",
       "      <th>198</th>\n",
       "      <td>202103</td>\n",
       "      <td>여성</td>\n",
       "      <td>60대이상</td>\n",
       "      <td>9</td>\n",
       "      <td>식당</td>\n",
       "      <td>전월비</td>\n",
       "    </tr>\n",
       "    <tr>\n",
       "      <th>199</th>\n",
       "      <td>202103</td>\n",
       "      <td>여성</td>\n",
       "      <td>60대이상</td>\n",
       "      <td>10</td>\n",
       "      <td>인테리어</td>\n",
       "      <td>전월비</td>\n",
       "    </tr>\n",
       "  </tbody>\n",
       "</table>\n",
       "<p>200 rows × 6 columns</p>\n",
       "</div>"
      ],
      "text/plain": [
       "       기준년월  성별    연령대  이용 증가율 순위      업종   구분\n",
       "0    202103  남성    20대          1     주차장  전년비\n",
       "1    202103  남성    20대          2     백화점  전년비\n",
       "2    202103  남성    20대          3     배달앱  전년비\n",
       "3    202103  남성    20대          4      의류  전년비\n",
       "4    202103  남성    20대          5    양방종합  전년비\n",
       "..      ...  ..    ...        ...     ...  ...\n",
       "195  202103  여성  60대이상          6     아울렛  전월비\n",
       "196  202103  여성  60대이상          7     백화점  전월비\n",
       "197  202103  여성  60대이상          8  문구사무용품  전월비\n",
       "198  202103  여성  60대이상          9      식당  전월비\n",
       "199  202103  여성  60대이상         10    인테리어  전월비\n",
       "\n",
       "[200 rows x 6 columns]"
      ]
     },
     "execution_count": 15,
     "metadata": {},
     "output_type": "execute_result"
    }
   ],
   "source": [
    "df3"
   ]
  },
  {
   "cell_type": "code",
   "execution_count": 16,
   "metadata": {},
   "outputs": [],
   "source": [
    "data=pd.concat([df1,df2,df3,df4,df5,df6,df7,df8])"
   ]
  },
  {
   "cell_type": "code",
   "execution_count": 18,
   "metadata": {},
   "outputs": [
    {
     "data": {
      "text/plain": [
       "((200, 6),\n",
       " (200, 6),\n",
       " (200, 6),\n",
       " (200, 6),\n",
       " (200, 6),\n",
       " (200, 6),\n",
       " (200, 6),\n",
       " (200, 6))"
      ]
     },
     "execution_count": 18,
     "metadata": {},
     "output_type": "execute_result"
    }
   ],
   "source": [
    "df1.shape,df2.shape,df3.shape,df4.shape,df5.shape,df6.shape,df7.shape,df8.shape"
   ]
  },
  {
   "cell_type": "code",
   "execution_count": 22,
   "metadata": {},
   "outputs": [
    {
     "data": {
      "text/plain": [
       "(1600, 6)"
      ]
     },
     "execution_count": 22,
     "metadata": {},
     "output_type": "execute_result"
    }
   ],
   "source": [
    "data.shape"
   ]
  },
  {
   "cell_type": "code",
   "execution_count": 24,
   "metadata": {},
   "outputs": [],
   "source": [
    "data.to_excel('1~8월 합친데이터.xlsx',index=False)"
   ]
  },
  {
   "cell_type": "code",
   "execution_count": null,
   "metadata": {},
   "outputs": [],
   "source": []
  }
 ],
 "metadata": {
  "kernelspec": {
   "display_name": "Python 3",
   "language": "python",
   "name": "python3"
  },
  "language_info": {
   "codemirror_mode": {
    "name": "ipython",
    "version": 3
   },
   "file_extension": ".py",
   "mimetype": "text/x-python",
   "name": "python",
   "nbconvert_exporter": "python",
   "pygments_lexer": "ipython3",
   "version": "3.8.5"
  }
 },
 "nbformat": 4,
 "nbformat_minor": 4
}

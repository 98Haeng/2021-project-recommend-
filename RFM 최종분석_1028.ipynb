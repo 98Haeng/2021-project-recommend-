{
 "cells": [
  {
   "cell_type": "markdown",
   "id": "9e72e570",
   "metadata": {},
   "source": [
    "# RFM을 이용한 성장, 쇠퇴 서비스 업종 분류"
   ]
  },
  {
   "cell_type": "markdown",
   "id": "ff04ee15",
   "metadata": {},
   "source": [
    "1. 1차적으로 성장, 쇠퇴 산업을 구분하여 쇠퇴산업에 집중하여 분석을 실시.\n",
    "- 성장, 쇠퇴 산업을 상위 15개로 한정\n",
    "- RFM 지수를 이용한 산업 구분\n",
    "- r: 분기를 나타냄(2016-1 = 1, ... 2021-2 = 22), f: 매출건수, m:매출액\n",
    "    - 즉, RFM은 최근 데이터일수록 높은 값을 가지는 산업 구분 지표\n",
    "    - r이 가중치 역할\n",
    "    - 이를 통해 성장, 쇠퇴 산업을 구분\n",
    "    \n",
    "    \n",
    "- R : 분기당 변동량(최근 지표까지 파악 가능) - 연도별, 분기별로 점수매겨 2021-2분기가 제일 높게\n",
    "- F : 건수\n",
    "- M : 매출액"
   ]
  },
  {
   "cell_type": "code",
   "execution_count": 1,
   "id": "1bf7403f",
   "metadata": {
    "ExecuteTime": {
     "end_time": "2021-10-28T05:03:51.500494Z",
     "start_time": "2021-10-28T05:03:51.489512Z"
    }
   },
   "outputs": [],
   "source": [
    "# 라이브러리 임포트\n",
    "\n",
    "import pandas as pd\n",
    "import numpy as np\n",
    "import matplotlib.pyplot as plt\n",
    "import seaborn as sns\n",
    "%matplotlib inline\n",
    "from matplotlib import font_manager, rc\n",
    "font_path='C:\\Windows\\Fonts/malgun.ttf'\n",
    "font=font_manager.FontProperties(fname=font_path).get_name() # 폰트 적용\n",
    "rc('font',family=font)"
   ]
  },
  {
   "cell_type": "markdown",
   "id": "f5d85ddd",
   "metadata": {},
   "source": [
    "# 데이터 로드"
   ]
  },
  {
   "cell_type": "code",
   "execution_count": 2,
   "id": "0c33c69e",
   "metadata": {
    "ExecuteTime": {
     "end_time": "2021-10-28T05:04:17.331578Z",
     "start_time": "2021-10-28T05:04:11.260183Z"
    }
   },
   "outputs": [],
   "source": [
    "# 데이터 로드\n",
    "\n",
    "s2021=pd.read_csv('../data/서울시2021.csv',encoding='utf-8')\n",
    "s2020=pd.read_csv('../data/서울시2020.csv',encoding='utf-8')\n",
    "s2019=pd.read_csv('../data/서울시2019.csv',encoding='utf-8')\n",
    "s2018=pd.read_csv('../data/서울시2018.csv',encoding='utf-8')\n",
    "s2017=pd.read_csv('../data/서울시2017.csv',encoding='utf-8')\n",
    "s2016=pd.read_csv('../data/서울시2016.csv',encoding='utf-8')"
   ]
  },
  {
   "cell_type": "code",
   "execution_count": 52,
   "id": "5d332112",
   "metadata": {
    "ExecuteTime": {
     "end_time": "2021-10-28T05:34:19.287445Z",
     "start_time": "2021-10-28T05:34:17.313650Z"
    }
   },
   "outputs": [
    {
     "data": {
      "text/plain": [
       "(828487, 80)"
      ]
     },
     "execution_count": 52,
     "metadata": {},
     "output_type": "execute_result"
    }
   ],
   "source": [
    "# 데이터 병합\n",
    "\n",
    "s_merged = pd.concat([s2021, s2020, s2019, s2018, s2017, s2016], axis=0)\n",
    "s_merged.shape"
   ]
  },
  {
   "cell_type": "code",
   "execution_count": 10,
   "id": "9864b048",
   "metadata": {
    "ExecuteTime": {
     "end_time": "2021-10-28T05:06:52.825299Z",
     "start_time": "2021-10-28T05:06:52.781729Z"
    }
   },
   "outputs": [
    {
     "data": {
      "text/html": [
       "<div>\n",
       "<style scoped>\n",
       "    .dataframe tbody tr th:only-of-type {\n",
       "        vertical-align: middle;\n",
       "    }\n",
       "\n",
       "    .dataframe tbody tr th {\n",
       "        vertical-align: top;\n",
       "    }\n",
       "\n",
       "    .dataframe thead th {\n",
       "        text-align: right;\n",
       "    }\n",
       "</style>\n",
       "<table border=\"1\" class=\"dataframe\">\n",
       "  <thead>\n",
       "    <tr style=\"text-align: right;\">\n",
       "      <th></th>\n",
       "      <th>기준_년_코드</th>\n",
       "      <th>기준_분기_코드</th>\n",
       "      <th>상권_구분_코드</th>\n",
       "      <th>상권_구분_코드_명</th>\n",
       "      <th>상권_코드</th>\n",
       "      <th>상권_코드_명</th>\n",
       "      <th>서비스_업종_코드</th>\n",
       "      <th>서비스_업종_코드_명</th>\n",
       "      <th>분기당_매출_금액</th>\n",
       "      <th>분기당_매출_건수</th>\n",
       "      <th>...</th>\n",
       "      <th>시간대_건수~24_매출_건수</th>\n",
       "      <th>남성_매출_건수</th>\n",
       "      <th>여성_매출_건수</th>\n",
       "      <th>연령대_10_매출_건수</th>\n",
       "      <th>연령대_20_매출_건수</th>\n",
       "      <th>연령대_30_매출_건수</th>\n",
       "      <th>연령대_40_매출_건수</th>\n",
       "      <th>연령대_50_매출_건수</th>\n",
       "      <th>연령대_60_이상_매출_건수</th>\n",
       "      <th>점포수</th>\n",
       "    </tr>\n",
       "  </thead>\n",
       "  <tbody>\n",
       "    <tr>\n",
       "      <th>0</th>\n",
       "      <td>2021</td>\n",
       "      <td>2</td>\n",
       "      <td>U</td>\n",
       "      <td>관광특구</td>\n",
       "      <td>1001496</td>\n",
       "      <td>강남 마이스 관광특구</td>\n",
       "      <td>CS300043</td>\n",
       "      <td>전자상거래업</td>\n",
       "      <td>5836078.0</td>\n",
       "      <td>92</td>\n",
       "      <td>...</td>\n",
       "      <td>0</td>\n",
       "      <td>14</td>\n",
       "      <td>74</td>\n",
       "      <td>0</td>\n",
       "      <td>27</td>\n",
       "      <td>42</td>\n",
       "      <td>5</td>\n",
       "      <td>5</td>\n",
       "      <td>9</td>\n",
       "      <td>8</td>\n",
       "    </tr>\n",
       "  </tbody>\n",
       "</table>\n",
       "<p>1 rows × 80 columns</p>\n",
       "</div>"
      ],
      "text/plain": [
       "   기준_년_코드  기준_분기_코드 상권_구분_코드 상권_구분_코드_명    상권_코드      상권_코드_명 서비스_업종_코드  \\\n",
       "0     2021         2        U       관광특구  1001496  강남 마이스 관광특구  CS300043   \n",
       "\n",
       "  서비스_업종_코드_명  분기당_매출_금액  분기당_매출_건수  ...  시간대_건수~24_매출_건수  남성_매출_건수  여성_매출_건수  \\\n",
       "0      전자상거래업  5836078.0         92  ...                0        14        74   \n",
       "\n",
       "   연령대_10_매출_건수  연령대_20_매출_건수  연령대_30_매출_건수  연령대_40_매출_건수  연령대_50_매출_건수  \\\n",
       "0             0            27            42             5             5   \n",
       "\n",
       "   연령대_60_이상_매출_건수  점포수  \n",
       "0                9    8  \n",
       "\n",
       "[1 rows x 80 columns]"
      ]
     },
     "execution_count": 10,
     "metadata": {},
     "output_type": "execute_result"
    }
   ],
   "source": [
    "# 데이터 예시\n",
    "\n",
    "s_merged.head(1)"
   ]
  },
  {
   "cell_type": "markdown",
   "id": "9a26cd6e",
   "metadata": {},
   "source": [
    "# RFM 지표 생성"
   ]
  },
  {
   "cell_type": "markdown",
   "id": "041f490d",
   "metadata": {},
   "source": [
    "## M지표 이용 매출액 분류"
   ]
  },
  {
   "cell_type": "markdown",
   "id": "1c545df7",
   "metadata": {},
   "source": [
    "- 매출액 데이터들을 합하여 M지표로 계산\n",
    "\n",
    "- 매출금액/(매출건수*점포수)"
   ]
  },
  {
   "cell_type": "code",
   "execution_count": 53,
   "id": "7170f94a",
   "metadata": {
    "ExecuteTime": {
     "end_time": "2021-10-28T05:34:21.858728Z",
     "start_time": "2021-10-28T05:34:21.725733Z"
    }
   },
   "outputs": [
    {
     "data": {
      "text/html": [
       "<div>\n",
       "<style scoped>\n",
       "    .dataframe tbody tr th:only-of-type {\n",
       "        vertical-align: middle;\n",
       "    }\n",
       "\n",
       "    .dataframe tbody tr th {\n",
       "        vertical-align: top;\n",
       "    }\n",
       "\n",
       "    .dataframe thead th {\n",
       "        text-align: right;\n",
       "    }\n",
       "</style>\n",
       "<table border=\"1\" class=\"dataframe\">\n",
       "  <thead>\n",
       "    <tr style=\"text-align: right;\">\n",
       "      <th></th>\n",
       "      <th>기준_년_코드</th>\n",
       "      <th>기준_분기_코드</th>\n",
       "      <th>상권_구분_코드</th>\n",
       "      <th>상권_구분_코드_명</th>\n",
       "      <th>상권_코드</th>\n",
       "      <th>상권_코드_명</th>\n",
       "      <th>서비스_업종_코드</th>\n",
       "      <th>서비스_업종_코드_명</th>\n",
       "      <th>분기당_매출_금액</th>\n",
       "      <th>분기당_매출_건수</th>\n",
       "      <th>...</th>\n",
       "      <th>남성_매출_건수</th>\n",
       "      <th>여성_매출_건수</th>\n",
       "      <th>연령대_10_매출_건수</th>\n",
       "      <th>연령대_20_매출_건수</th>\n",
       "      <th>연령대_30_매출_건수</th>\n",
       "      <th>연령대_40_매출_건수</th>\n",
       "      <th>연령대_50_매출_건수</th>\n",
       "      <th>연령대_60_이상_매출_건수</th>\n",
       "      <th>점포수</th>\n",
       "      <th>M지표</th>\n",
       "    </tr>\n",
       "  </thead>\n",
       "  <tbody>\n",
       "    <tr>\n",
       "      <th>0</th>\n",
       "      <td>2021</td>\n",
       "      <td>2</td>\n",
       "      <td>U</td>\n",
       "      <td>관광특구</td>\n",
       "      <td>1001496</td>\n",
       "      <td>강남 마이스 관광특구</td>\n",
       "      <td>CS300043</td>\n",
       "      <td>전자상거래업</td>\n",
       "      <td>5836078.0</td>\n",
       "      <td>92</td>\n",
       "      <td>...</td>\n",
       "      <td>14</td>\n",
       "      <td>74</td>\n",
       "      <td>0</td>\n",
       "      <td>27</td>\n",
       "      <td>42</td>\n",
       "      <td>5</td>\n",
       "      <td>5</td>\n",
       "      <td>9</td>\n",
       "      <td>8</td>\n",
       "      <td>8.978466</td>\n",
       "    </tr>\n",
       "    <tr>\n",
       "      <th>1</th>\n",
       "      <td>2021</td>\n",
       "      <td>2</td>\n",
       "      <td>U</td>\n",
       "      <td>관광특구</td>\n",
       "      <td>1001496</td>\n",
       "      <td>강남 마이스 관광특구</td>\n",
       "      <td>CS300035</td>\n",
       "      <td>인테리어</td>\n",
       "      <td>86120359.0</td>\n",
       "      <td>739</td>\n",
       "      <td>...</td>\n",
       "      <td>370</td>\n",
       "      <td>0</td>\n",
       "      <td>0</td>\n",
       "      <td>0</td>\n",
       "      <td>0</td>\n",
       "      <td>370</td>\n",
       "      <td>0</td>\n",
       "      <td>0</td>\n",
       "      <td>4</td>\n",
       "      <td>10.279698</td>\n",
       "    </tr>\n",
       "  </tbody>\n",
       "</table>\n",
       "<p>2 rows × 81 columns</p>\n",
       "</div>"
      ],
      "text/plain": [
       "   기준_년_코드  기준_분기_코드 상권_구분_코드 상권_구분_코드_명    상권_코드      상권_코드_명 서비스_업종_코드  \\\n",
       "0     2021         2        U       관광특구  1001496  강남 마이스 관광특구  CS300043   \n",
       "1     2021         2        U       관광특구  1001496  강남 마이스 관광특구  CS300035   \n",
       "\n",
       "  서비스_업종_코드_명   분기당_매출_금액  분기당_매출_건수  ...  남성_매출_건수  여성_매출_건수  연령대_10_매출_건수  \\\n",
       "0      전자상거래업   5836078.0         92  ...        14        74             0   \n",
       "1        인테리어  86120359.0        739  ...       370         0             0   \n",
       "\n",
       "   연령대_20_매출_건수  연령대_30_매출_건수  연령대_40_매출_건수  연령대_50_매출_건수  연령대_60_이상_매출_건수  \\\n",
       "0            27            42             5             5                9   \n",
       "1             0             0           370             0                0   \n",
       "\n",
       "   점포수        M지표  \n",
       "0    8   8.978466  \n",
       "1    4  10.279698  \n",
       "\n",
       "[2 rows x 81 columns]"
      ]
     },
     "execution_count": 53,
     "metadata": {},
     "output_type": "execute_result"
    }
   ],
   "source": [
    "s_merged['M지표']=s_merged['분기당_매출_금액']/\n",
    "(s_merged['분기당_매출_건수']*s_merged['점포수'])\n",
    "\n",
    " # 숫자간 격차가 너무 커서 log1p사용\n",
    "s_merged['M지표']=np.log1p(s_merged['M지표'])\n",
    "s_merged.head(2)"
   ]
  },
  {
   "cell_type": "markdown",
   "id": "6c5894a0",
   "metadata": {},
   "source": [
    "## R 점수 계산"
   ]
  },
  {
   "cell_type": "markdown",
   "id": "ad7e6995",
   "metadata": {},
   "source": [
    "- EX) 2021년 2분기의 경우 6.25점으로\n",
    "- 2016년부터 1.0, 1.25... 이렇게 시작\n",
    "- 최근 데이터일수록 가중치를 주기 위함"
   ]
  },
  {
   "cell_type": "code",
   "execution_count": 54,
   "id": "60e2ef1b",
   "metadata": {
    "ExecuteTime": {
     "end_time": "2021-10-28T05:34:24.119959Z",
     "start_time": "2021-10-28T05:34:24.104001Z"
    }
   },
   "outputs": [
    {
     "data": {
      "text/plain": [
       "(array([1.  , 1.25, 1.5 , 1.75, 2.  , 2.25, 2.5 , 2.75, 3.  , 3.25, 3.5 ,\n",
       "        3.75, 4.  , 4.25, 4.5 , 4.75, 5.  , 5.25, 5.5 , 5.75, 6.  , 6.25]),\n",
       " 22)"
      ]
     },
     "execution_count": 54,
     "metadata": {},
     "output_type": "execute_result"
    }
   ],
   "source": [
    "np.linspace(1, 6.25, 22), len(np.linspace(1, 6.25, 22))"
   ]
  },
  {
   "cell_type": "code",
   "execution_count": 55,
   "id": "15aed713",
   "metadata": {
    "ExecuteTime": {
     "end_time": "2021-10-28T05:34:26.622215Z",
     "start_time": "2021-10-28T05:34:25.895273Z"
    }
   },
   "outputs": [
    {
     "name": "stdout",
     "output_type": "stream",
     "text": [
      "2016 년 1 분기 data 전처리중...\n"
     ]
    },
    {
     "name": "stderr",
     "output_type": "stream",
     "text": [
      "C:\\Users\\Kim\\AppData\\Roaming\\Python\\Python37\\site-packages\\ipykernel_launcher.py:11: SettingWithCopyWarning: \n",
      "A value is trying to be set on a copy of a slice from a DataFrame.\n",
      "Try using .loc[row_indexer,col_indexer] = value instead\n",
      "\n",
      "See the caveats in the documentation: https://pandas.pydata.org/pandas-docs/stable/user_guide/indexing.html#returning-a-view-versus-a-copy\n",
      "  # This is added back by InteractiveShellApp.init_path()\n",
      "C:\\Users\\Kim\\AppData\\Roaming\\Python\\Python37\\site-packages\\ipykernel_launcher.py:11: SettingWithCopyWarning: \n",
      "A value is trying to be set on a copy of a slice from a DataFrame.\n",
      "Try using .loc[row_indexer,col_indexer] = value instead\n",
      "\n",
      "See the caveats in the documentation: https://pandas.pydata.org/pandas-docs/stable/user_guide/indexing.html#returning-a-view-versus-a-copy\n",
      "  # This is added back by InteractiveShellApp.init_path()\n",
      "C:\\Users\\Kim\\AppData\\Roaming\\Python\\Python37\\site-packages\\ipykernel_launcher.py:11: SettingWithCopyWarning: \n",
      "A value is trying to be set on a copy of a slice from a DataFrame.\n",
      "Try using .loc[row_indexer,col_indexer] = value instead\n",
      "\n",
      "See the caveats in the documentation: https://pandas.pydata.org/pandas-docs/stable/user_guide/indexing.html#returning-a-view-versus-a-copy\n",
      "  # This is added back by InteractiveShellApp.init_path()\n",
      "C:\\Users\\Kim\\AppData\\Roaming\\Python\\Python37\\site-packages\\ipykernel_launcher.py:11: SettingWithCopyWarning: \n",
      "A value is trying to be set on a copy of a slice from a DataFrame.\n",
      "Try using .loc[row_indexer,col_indexer] = value instead\n",
      "\n",
      "See the caveats in the documentation: https://pandas.pydata.org/pandas-docs/stable/user_guide/indexing.html#returning-a-view-versus-a-copy\n",
      "  # This is added back by InteractiveShellApp.init_path()\n",
      "C:\\Users\\Kim\\AppData\\Roaming\\Python\\Python37\\site-packages\\ipykernel_launcher.py:15: SettingWithCopyWarning: \n",
      "A value is trying to be set on a copy of a slice from a DataFrame.\n",
      "Try using .loc[row_indexer,col_indexer] = value instead\n",
      "\n",
      "See the caveats in the documentation: https://pandas.pydata.org/pandas-docs/stable/user_guide/indexing.html#returning-a-view-versus-a-copy\n",
      "  from ipykernel import kernelapp as app\n",
      "C:\\Users\\Kim\\AppData\\Roaming\\Python\\Python37\\site-packages\\ipykernel_launcher.py:15: SettingWithCopyWarning: \n",
      "A value is trying to be set on a copy of a slice from a DataFrame.\n",
      "Try using .loc[row_indexer,col_indexer] = value instead\n",
      "\n",
      "See the caveats in the documentation: https://pandas.pydata.org/pandas-docs/stable/user_guide/indexing.html#returning-a-view-versus-a-copy\n",
      "  from ipykernel import kernelapp as app\n",
      "C:\\Users\\Kim\\AppData\\Roaming\\Python\\Python37\\site-packages\\ipykernel_launcher.py:15: SettingWithCopyWarning: \n",
      "A value is trying to be set on a copy of a slice from a DataFrame.\n",
      "Try using .loc[row_indexer,col_indexer] = value instead\n",
      "\n",
      "See the caveats in the documentation: https://pandas.pydata.org/pandas-docs/stable/user_guide/indexing.html#returning-a-view-versus-a-copy\n",
      "  from ipykernel import kernelapp as app\n",
      "C:\\Users\\Kim\\AppData\\Roaming\\Python\\Python37\\site-packages\\ipykernel_launcher.py:15: SettingWithCopyWarning: \n",
      "A value is trying to be set on a copy of a slice from a DataFrame.\n",
      "Try using .loc[row_indexer,col_indexer] = value instead\n",
      "\n",
      "See the caveats in the documentation: https://pandas.pydata.org/pandas-docs/stable/user_guide/indexing.html#returning-a-view-versus-a-copy\n",
      "  from ipykernel import kernelapp as app\n",
      "C:\\Users\\Kim\\AppData\\Roaming\\Python\\Python37\\site-packages\\ipykernel_launcher.py:19: SettingWithCopyWarning: \n",
      "A value is trying to be set on a copy of a slice from a DataFrame.\n",
      "Try using .loc[row_indexer,col_indexer] = value instead\n",
      "\n",
      "See the caveats in the documentation: https://pandas.pydata.org/pandas-docs/stable/user_guide/indexing.html#returning-a-view-versus-a-copy\n",
      "C:\\Users\\Kim\\AppData\\Roaming\\Python\\Python37\\site-packages\\ipykernel_launcher.py:19: SettingWithCopyWarning: \n",
      "A value is trying to be set on a copy of a slice from a DataFrame.\n",
      "Try using .loc[row_indexer,col_indexer] = value instead\n",
      "\n",
      "See the caveats in the documentation: https://pandas.pydata.org/pandas-docs/stable/user_guide/indexing.html#returning-a-view-versus-a-copy\n",
      "C:\\Users\\Kim\\AppData\\Roaming\\Python\\Python37\\site-packages\\ipykernel_launcher.py:19: SettingWithCopyWarning: \n",
      "A value is trying to be set on a copy of a slice from a DataFrame.\n",
      "Try using .loc[row_indexer,col_indexer] = value instead\n",
      "\n",
      "See the caveats in the documentation: https://pandas.pydata.org/pandas-docs/stable/user_guide/indexing.html#returning-a-view-versus-a-copy\n",
      "C:\\Users\\Kim\\AppData\\Roaming\\Python\\Python37\\site-packages\\ipykernel_launcher.py:19: SettingWithCopyWarning: \n",
      "A value is trying to be set on a copy of a slice from a DataFrame.\n",
      "Try using .loc[row_indexer,col_indexer] = value instead\n",
      "\n",
      "See the caveats in the documentation: https://pandas.pydata.org/pandas-docs/stable/user_guide/indexing.html#returning-a-view-versus-a-copy\n",
      "C:\\Users\\Kim\\AppData\\Roaming\\Python\\Python37\\site-packages\\ipykernel_launcher.py:23: SettingWithCopyWarning: \n",
      "A value is trying to be set on a copy of a slice from a DataFrame.\n",
      "Try using .loc[row_indexer,col_indexer] = value instead\n",
      "\n",
      "See the caveats in the documentation: https://pandas.pydata.org/pandas-docs/stable/user_guide/indexing.html#returning-a-view-versus-a-copy\n",
      "C:\\Users\\Kim\\AppData\\Roaming\\Python\\Python37\\site-packages\\ipykernel_launcher.py:23: SettingWithCopyWarning: \n",
      "A value is trying to be set on a copy of a slice from a DataFrame.\n",
      "Try using .loc[row_indexer,col_indexer] = value instead\n",
      "\n",
      "See the caveats in the documentation: https://pandas.pydata.org/pandas-docs/stable/user_guide/indexing.html#returning-a-view-versus-a-copy\n"
     ]
    },
    {
     "name": "stdout",
     "output_type": "stream",
     "text": [
      "2016 년 2 분기 data 전처리중...\n",
      "2016 년 3 분기 data 전처리중...\n",
      "2016 년 4 분기 data 전처리중...\n",
      "2017 년 1 분기 data 전처리중...\n",
      "2017 년 2 분기 data 전처리중...\n",
      "2017 년 3 분기 data 전처리중...\n",
      "2017 년 4 분기 data 전처리중...\n",
      "2018 년 1 분기 data 전처리중...\n",
      "2018 년 2 분기 data 전처리중...\n",
      "2018 년 3 분기 data 전처리중...\n",
      "2018 년 4 분기 data 전처리중...\n",
      "2019 년 1 분기 data 전처리중...\n",
      "2019 년 2 분기 data 전처리중...\n",
      "2019 년 3 분기 data 전처리중...\n",
      "2019 년 4 분기 data 전처리중...\n",
      "2020 년 1 분기 data 전처리중...\n",
      "2020 년 2 분기 data 전처리중...\n",
      "2020 년 3 분기 data 전처리중...\n",
      "2020 년 4 분기 data 전처리중...\n",
      "2021 년 1 분기 data 전처리중...\n",
      "2021 년 2 분기 data 전처리중...\n",
      "Done\n"
     ]
    },
    {
     "name": "stderr",
     "output_type": "stream",
     "text": [
      "C:\\Users\\Kim\\AppData\\Roaming\\Python\\Python37\\site-packages\\ipykernel_launcher.py:23: SettingWithCopyWarning: \n",
      "A value is trying to be set on a copy of a slice from a DataFrame.\n",
      "Try using .loc[row_indexer,col_indexer] = value instead\n",
      "\n",
      "See the caveats in the documentation: https://pandas.pydata.org/pandas-docs/stable/user_guide/indexing.html#returning-a-view-versus-a-copy\n",
      "C:\\Users\\Kim\\AppData\\Roaming\\Python\\Python37\\site-packages\\ipykernel_launcher.py:23: SettingWithCopyWarning: \n",
      "A value is trying to be set on a copy of a slice from a DataFrame.\n",
      "Try using .loc[row_indexer,col_indexer] = value instead\n",
      "\n",
      "See the caveats in the documentation: https://pandas.pydata.org/pandas-docs/stable/user_guide/indexing.html#returning-a-view-versus-a-copy\n",
      "C:\\Users\\Kim\\AppData\\Roaming\\Python\\Python37\\site-packages\\ipykernel_launcher.py:27: SettingWithCopyWarning: \n",
      "A value is trying to be set on a copy of a slice from a DataFrame.\n",
      "Try using .loc[row_indexer,col_indexer] = value instead\n",
      "\n",
      "See the caveats in the documentation: https://pandas.pydata.org/pandas-docs/stable/user_guide/indexing.html#returning-a-view-versus-a-copy\n",
      "C:\\Users\\Kim\\AppData\\Roaming\\Python\\Python37\\site-packages\\ipykernel_launcher.py:27: SettingWithCopyWarning: \n",
      "A value is trying to be set on a copy of a slice from a DataFrame.\n",
      "Try using .loc[row_indexer,col_indexer] = value instead\n",
      "\n",
      "See the caveats in the documentation: https://pandas.pydata.org/pandas-docs/stable/user_guide/indexing.html#returning-a-view-versus-a-copy\n",
      "C:\\Users\\Kim\\AppData\\Roaming\\Python\\Python37\\site-packages\\ipykernel_launcher.py:27: SettingWithCopyWarning: \n",
      "A value is trying to be set on a copy of a slice from a DataFrame.\n",
      "Try using .loc[row_indexer,col_indexer] = value instead\n",
      "\n",
      "See the caveats in the documentation: https://pandas.pydata.org/pandas-docs/stable/user_guide/indexing.html#returning-a-view-versus-a-copy\n",
      "C:\\Users\\Kim\\AppData\\Roaming\\Python\\Python37\\site-packages\\ipykernel_launcher.py:27: SettingWithCopyWarning: \n",
      "A value is trying to be set on a copy of a slice from a DataFrame.\n",
      "Try using .loc[row_indexer,col_indexer] = value instead\n",
      "\n",
      "See the caveats in the documentation: https://pandas.pydata.org/pandas-docs/stable/user_guide/indexing.html#returning-a-view-versus-a-copy\n",
      "C:\\Users\\Kim\\AppData\\Roaming\\Python\\Python37\\site-packages\\ipykernel_launcher.py:31: SettingWithCopyWarning: \n",
      "A value is trying to be set on a copy of a slice from a DataFrame.\n",
      "Try using .loc[row_indexer,col_indexer] = value instead\n",
      "\n",
      "See the caveats in the documentation: https://pandas.pydata.org/pandas-docs/stable/user_guide/indexing.html#returning-a-view-versus-a-copy\n",
      "C:\\Users\\Kim\\AppData\\Roaming\\Python\\Python37\\site-packages\\ipykernel_launcher.py:31: SettingWithCopyWarning: \n",
      "A value is trying to be set on a copy of a slice from a DataFrame.\n",
      "Try using .loc[row_indexer,col_indexer] = value instead\n",
      "\n",
      "See the caveats in the documentation: https://pandas.pydata.org/pandas-docs/stable/user_guide/indexing.html#returning-a-view-versus-a-copy\n"
     ]
    }
   ],
   "source": [
    "y_lst = [2016, 2016, 2016, 2016, 2017, 2017, 2017, 2017, 2018, 2018, 2018, 2018, 2019, 2019, 2019, 2019, 2020, 2020, 2020, 2020,\n",
    "        2021, 2021]\n",
    "r_lst = np.linspace(1, 6.25, 22)\n",
    "\n",
    "df_lst = []\n",
    "\n",
    "for idx, year in enumerate(y_lst):\n",
    "    if idx < 4:\n",
    "        print(year,'년', idx+1,'분기 data 전처리중...')\n",
    "        df_lst.append(s_merged[(s_merged['기준_년_코드']==year)&(s_merged['기준_분기_코드']==idx+1)])\n",
    "        df_lst[idx]['R지표'] = r_lst[idx]\n",
    "    elif idx < 8:\n",
    "        print(year,'년', idx-3,'분기 data 전처리중...')\n",
    "        df_lst.append(s_merged[(s_merged['기준_년_코드']==year)&(s_merged['기준_분기_코드']==idx-3)])\n",
    "        df_lst[idx]['R지표'] = r_lst[idx]\n",
    "    elif idx < 12:\n",
    "        print(year,'년', idx-7,'분기 data 전처리중...')\n",
    "        df_lst.append(s_merged[(s_merged['기준_년_코드']==year)&(s_merged['기준_분기_코드']==idx-7)])\n",
    "        df_lst[idx]['R지표'] = r_lst[idx]\n",
    "    elif idx < 16:\n",
    "        print(year,'년', idx-11,'분기 data 전처리중...')\n",
    "        df_lst.append(s_merged[(s_merged['기준_년_코드']==year)&(s_merged['기준_분기_코드']==idx-11)])\n",
    "        df_lst[idx]['R지표'] = r_lst[idx]\n",
    "    elif idx < 20:\n",
    "        print(year,'년', idx-15,'분기 data 전처리중...')\n",
    "        df_lst.append(s_merged[(s_merged['기준_년_코드']==year)&(s_merged['기준_분기_코드']==idx-15)])\n",
    "        df_lst[idx]['R지표'] = r_lst[idx]\n",
    "    else:\n",
    "        print(year,'년', idx-19,'분기 data 전처리중...')\n",
    "        df_lst.append(s_merged[(s_merged['기준_년_코드']==year)&(s_merged['기준_분기_코드']==idx-19)])\n",
    "        df_lst[idx]['R지표'] = r_lst[idx]\n",
    "print('Done')"
   ]
  },
  {
   "cell_type": "code",
   "execution_count": 56,
   "id": "e2e57374",
   "metadata": {
    "ExecuteTime": {
     "end_time": "2021-10-28T05:34:29.407109Z",
     "start_time": "2021-10-28T05:34:28.855287Z"
    }
   },
   "outputs": [
    {
     "data": {
      "text/html": [
       "<div>\n",
       "<style scoped>\n",
       "    .dataframe tbody tr th:only-of-type {\n",
       "        vertical-align: middle;\n",
       "    }\n",
       "\n",
       "    .dataframe tbody tr th {\n",
       "        vertical-align: top;\n",
       "    }\n",
       "\n",
       "    .dataframe thead th {\n",
       "        text-align: right;\n",
       "    }\n",
       "</style>\n",
       "<table border=\"1\" class=\"dataframe\">\n",
       "  <thead>\n",
       "    <tr style=\"text-align: right;\">\n",
       "      <th></th>\n",
       "      <th>기준_년_코드</th>\n",
       "      <th>기준_분기_코드</th>\n",
       "      <th>상권_구분_코드</th>\n",
       "      <th>상권_구분_코드_명</th>\n",
       "      <th>상권_코드</th>\n",
       "      <th>상권_코드_명</th>\n",
       "      <th>서비스_업종_코드</th>\n",
       "      <th>서비스_업종_코드_명</th>\n",
       "      <th>분기당_매출_금액</th>\n",
       "      <th>분기당_매출_건수</th>\n",
       "      <th>...</th>\n",
       "      <th>여성_매출_건수</th>\n",
       "      <th>연령대_10_매출_건수</th>\n",
       "      <th>연령대_20_매출_건수</th>\n",
       "      <th>연령대_30_매출_건수</th>\n",
       "      <th>연령대_40_매출_건수</th>\n",
       "      <th>연령대_50_매출_건수</th>\n",
       "      <th>연령대_60_이상_매출_건수</th>\n",
       "      <th>점포수</th>\n",
       "      <th>M지표</th>\n",
       "      <th>R지표</th>\n",
       "    </tr>\n",
       "  </thead>\n",
       "  <tbody>\n",
       "    <tr>\n",
       "      <th>0</th>\n",
       "      <td>2016</td>\n",
       "      <td>1</td>\n",
       "      <td>A</td>\n",
       "      <td>골목상권</td>\n",
       "      <td>1000013</td>\n",
       "      <td>율곡로10길</td>\n",
       "      <td>CS300011</td>\n",
       "      <td>일반의류</td>\n",
       "      <td>27000000.0</td>\n",
       "      <td>21</td>\n",
       "      <td>...</td>\n",
       "      <td>11</td>\n",
       "      <td>0</td>\n",
       "      <td>0</td>\n",
       "      <td>0</td>\n",
       "      <td>0</td>\n",
       "      <td>4</td>\n",
       "      <td>7</td>\n",
       "      <td>2</td>\n",
       "      <td>13.373679</td>\n",
       "      <td>1.0</td>\n",
       "    </tr>\n",
       "    <tr>\n",
       "      <th>1</th>\n",
       "      <td>2016</td>\n",
       "      <td>1</td>\n",
       "      <td>R</td>\n",
       "      <td>전통시장</td>\n",
       "      <td>1001271</td>\n",
       "      <td>동묘시장</td>\n",
       "      <td>CS300017</td>\n",
       "      <td>시계및귀금속</td>\n",
       "      <td>649744.0</td>\n",
       "      <td>17</td>\n",
       "      <td>...</td>\n",
       "      <td>9</td>\n",
       "      <td>0</td>\n",
       "      <td>0</td>\n",
       "      <td>0</td>\n",
       "      <td>0</td>\n",
       "      <td>8</td>\n",
       "      <td>9</td>\n",
       "      <td>1</td>\n",
       "      <td>10.551147</td>\n",
       "      <td>1.0</td>\n",
       "    </tr>\n",
       "  </tbody>\n",
       "</table>\n",
       "<p>2 rows × 82 columns</p>\n",
       "</div>"
      ],
      "text/plain": [
       "   기준_년_코드  기준_분기_코드 상권_구분_코드 상권_구분_코드_명    상권_코드 상권_코드_명 서비스_업종_코드  \\\n",
       "0     2016         1        A       골목상권  1000013  율곡로10길  CS300011   \n",
       "1     2016         1        R       전통시장  1001271    동묘시장  CS300017   \n",
       "\n",
       "  서비스_업종_코드_명   분기당_매출_금액  분기당_매출_건수  ...  여성_매출_건수  연령대_10_매출_건수  \\\n",
       "0        일반의류  27000000.0         21  ...        11             0   \n",
       "1      시계및귀금속    649744.0         17  ...         9             0   \n",
       "\n",
       "   연령대_20_매출_건수  연령대_30_매출_건수  연령대_40_매출_건수  연령대_50_매출_건수  연령대_60_이상_매출_건수  \\\n",
       "0             0             0             0             4                7   \n",
       "1             0             0             0             8                9   \n",
       "\n",
       "   점포수        M지표  R지표  \n",
       "0    2  13.373679  1.0  \n",
       "1    1  10.551147  1.0  \n",
       "\n",
       "[2 rows x 82 columns]"
      ]
     },
     "execution_count": 56,
     "metadata": {},
     "output_type": "execute_result"
    }
   ],
   "source": [
    "RFM_df = pd.concat(df_lst, axis=0)\n",
    "RFM_df.head(2)"
   ]
  },
  {
   "cell_type": "code",
   "execution_count": 61,
   "id": "d42578a6",
   "metadata": {
    "ExecuteTime": {
     "end_time": "2021-10-28T05:36:46.112833Z",
     "start_time": "2021-10-28T05:36:46.082256Z"
    }
   },
   "outputs": [
    {
     "data": {
      "text/plain": [
       "array([1.  , 1.25, 1.5 , 1.75, 2.  , 2.25, 2.5 , 2.75, 3.  , 3.25, 3.5 ,\n",
       "       3.75, 4.  , 4.25, 4.5 , 4.75, 5.  , 5.25, 5.5 , 5.75, 6.  , 6.25])"
      ]
     },
     "execution_count": 61,
     "metadata": {},
     "output_type": "execute_result"
    }
   ],
   "source": [
    "RFM_df['R지표'].unique()"
   ]
  },
  {
   "cell_type": "markdown",
   "id": "2d6c7de0",
   "metadata": {},
   "source": [
    "# F지표 계산"
   ]
  },
  {
   "cell_type": "code",
   "execution_count": 62,
   "id": "3c0a9146",
   "metadata": {
    "ExecuteTime": {
     "end_time": "2021-10-28T05:41:27.945391Z",
     "start_time": "2021-10-28T05:41:27.921430Z"
    }
   },
   "outputs": [],
   "source": [
    "RFM_df['F지표']=RFM_df['분기당_매출_건수']/RFM_df['점포수']\n",
    "\n",
    "# 값이 너무 커져 로그를 취함\n",
    "RFM_df['F지표']=np.log1p(RFM_df['F지표'])"
   ]
  },
  {
   "cell_type": "markdown",
   "id": "ff287f04",
   "metadata": {},
   "source": [
    "# 결측치 처리"
   ]
  },
  {
   "cell_type": "code",
   "execution_count": 63,
   "id": "b1ed99c3",
   "metadata": {
    "ExecuteTime": {
     "end_time": "2021-10-28T05:41:46.971849Z",
     "start_time": "2021-10-28T05:41:46.948904Z"
    }
   },
   "outputs": [
    {
     "data": {
      "text/plain": [
       "(0.05715841383994861, inf)"
      ]
     },
     "execution_count": 63,
     "metadata": {},
     "output_type": "execute_result"
    }
   ],
   "source": [
    "# inf 데이터 처리\n",
    "np.min(RFM_df['F지표']),np.max(RFM_df['F지표'])"
   ]
  },
  {
   "cell_type": "code",
   "execution_count": 64,
   "id": "90de4473",
   "metadata": {
    "ExecuteTime": {
     "end_time": "2021-10-28T05:42:42.553197Z",
     "start_time": "2021-10-28T05:42:41.265437Z"
    }
   },
   "outputs": [
    {
     "data": {
      "text/plain": [
       "(0.05715841383994861, 14.130729973409144)"
      ]
     },
     "execution_count": 64,
     "metadata": {},
     "output_type": "execute_result"
    }
   ],
   "source": [
    "RFM_df=RFM_df.replace([np.inf,-np.inf],np.nan)\n",
    "np.min(RFM_df['F지표']),np.max(RFM_df['F지표'])"
   ]
  },
  {
   "cell_type": "code",
   "execution_count": 65,
   "id": "2bee51ad",
   "metadata": {
    "ExecuteTime": {
     "end_time": "2021-10-28T05:42:52.922268Z",
     "start_time": "2021-10-28T05:42:52.694505Z"
    }
   },
   "outputs": [
    {
     "data": {
      "text/plain": [
       "기준_년_코드                0\n",
       "기준_분기_코드               0\n",
       "상권_구분_코드               0\n",
       "상권_구분_코드_명             0\n",
       "상권_코드                  0\n",
       "                   ...  \n",
       "연령대_60_이상_매출_건수        0\n",
       "점포수                    0\n",
       "M지표                15587\n",
       "R지표                    0\n",
       "F지표                15587\n",
       "Length: 83, dtype: int64"
      ]
     },
     "execution_count": 65,
     "metadata": {},
     "output_type": "execute_result"
    }
   ],
   "source": [
    "RFM_df.isnull().sum()"
   ]
  },
  {
   "cell_type": "code",
   "execution_count": 66,
   "id": "0c0a3f0a",
   "metadata": {
    "ExecuteTime": {
     "end_time": "2021-10-28T05:43:10.576970Z",
     "start_time": "2021-10-28T05:43:09.859580Z"
    }
   },
   "outputs": [
    {
     "data": {
      "text/plain": [
       "기준_년_코드            0\n",
       "기준_분기_코드           0\n",
       "상권_구분_코드           0\n",
       "상권_구분_코드_명         0\n",
       "상권_코드              0\n",
       "                  ..\n",
       "연령대_60_이상_매출_건수    0\n",
       "점포수                0\n",
       "M지표                0\n",
       "R지표                0\n",
       "F지표                0\n",
       "Length: 83, dtype: int64"
      ]
     },
     "execution_count": 66,
     "metadata": {},
     "output_type": "execute_result"
    }
   ],
   "source": [
    "# 결측치 처리\n",
    "\n",
    "RFM_df=RFM_df.dropna(axis=0)\n",
    "RFM_df.isnull().sum()"
   ]
  },
  {
   "cell_type": "code",
   "execution_count": 68,
   "id": "2ec131ae",
   "metadata": {
    "ExecuteTime": {
     "end_time": "2021-10-28T05:44:09.272883Z",
     "start_time": "2021-10-28T05:44:09.228104Z"
    }
   },
   "outputs": [
    {
     "data": {
      "text/html": [
       "<div>\n",
       "<style scoped>\n",
       "    .dataframe tbody tr th:only-of-type {\n",
       "        vertical-align: middle;\n",
       "    }\n",
       "\n",
       "    .dataframe tbody tr th {\n",
       "        vertical-align: top;\n",
       "    }\n",
       "\n",
       "    .dataframe thead th {\n",
       "        text-align: right;\n",
       "    }\n",
       "</style>\n",
       "<table border=\"1\" class=\"dataframe\">\n",
       "  <thead>\n",
       "    <tr style=\"text-align: right;\">\n",
       "      <th></th>\n",
       "      <th>기준_년_코드</th>\n",
       "      <th>기준_분기_코드</th>\n",
       "      <th>상권_구분_코드</th>\n",
       "      <th>상권_구분_코드_명</th>\n",
       "      <th>상권_코드</th>\n",
       "      <th>상권_코드_명</th>\n",
       "      <th>서비스_업종_코드</th>\n",
       "      <th>서비스_업종_코드_명</th>\n",
       "      <th>분기당_매출_금액</th>\n",
       "      <th>분기당_매출_건수</th>\n",
       "      <th>...</th>\n",
       "      <th>연령대_10_매출_건수</th>\n",
       "      <th>연령대_20_매출_건수</th>\n",
       "      <th>연령대_30_매출_건수</th>\n",
       "      <th>연령대_40_매출_건수</th>\n",
       "      <th>연령대_50_매출_건수</th>\n",
       "      <th>연령대_60_이상_매출_건수</th>\n",
       "      <th>점포수</th>\n",
       "      <th>M지표</th>\n",
       "      <th>R지표</th>\n",
       "      <th>F지표</th>\n",
       "    </tr>\n",
       "  </thead>\n",
       "  <tbody>\n",
       "    <tr>\n",
       "      <th>0</th>\n",
       "      <td>2016</td>\n",
       "      <td>1</td>\n",
       "      <td>A</td>\n",
       "      <td>골목상권</td>\n",
       "      <td>1000013</td>\n",
       "      <td>율곡로10길</td>\n",
       "      <td>CS300011</td>\n",
       "      <td>일반의류</td>\n",
       "      <td>27000000.0</td>\n",
       "      <td>21</td>\n",
       "      <td>...</td>\n",
       "      <td>0</td>\n",
       "      <td>0</td>\n",
       "      <td>0</td>\n",
       "      <td>0</td>\n",
       "      <td>4</td>\n",
       "      <td>7</td>\n",
       "      <td>2</td>\n",
       "      <td>13.373679</td>\n",
       "      <td>1.0</td>\n",
       "      <td>2.442347</td>\n",
       "    </tr>\n",
       "    <tr>\n",
       "      <th>1</th>\n",
       "      <td>2016</td>\n",
       "      <td>1</td>\n",
       "      <td>R</td>\n",
       "      <td>전통시장</td>\n",
       "      <td>1001271</td>\n",
       "      <td>동묘시장</td>\n",
       "      <td>CS300017</td>\n",
       "      <td>시계및귀금속</td>\n",
       "      <td>649744.0</td>\n",
       "      <td>17</td>\n",
       "      <td>...</td>\n",
       "      <td>0</td>\n",
       "      <td>0</td>\n",
       "      <td>0</td>\n",
       "      <td>0</td>\n",
       "      <td>8</td>\n",
       "      <td>9</td>\n",
       "      <td>1</td>\n",
       "      <td>10.551147</td>\n",
       "      <td>1.0</td>\n",
       "      <td>2.890372</td>\n",
       "    </tr>\n",
       "    <tr>\n",
       "      <th>2</th>\n",
       "      <td>2016</td>\n",
       "      <td>1</td>\n",
       "      <td>A</td>\n",
       "      <td>골목상권</td>\n",
       "      <td>1000447</td>\n",
       "      <td>증가로10길</td>\n",
       "      <td>CS300006</td>\n",
       "      <td>미곡판매</td>\n",
       "      <td>1856535.0</td>\n",
       "      <td>40</td>\n",
       "      <td>...</td>\n",
       "      <td>0</td>\n",
       "      <td>0</td>\n",
       "      <td>0</td>\n",
       "      <td>0</td>\n",
       "      <td>20</td>\n",
       "      <td>20</td>\n",
       "      <td>2</td>\n",
       "      <td>10.052239</td>\n",
       "      <td>1.0</td>\n",
       "      <td>3.044522</td>\n",
       "    </tr>\n",
       "  </tbody>\n",
       "</table>\n",
       "<p>3 rows × 83 columns</p>\n",
       "</div>"
      ],
      "text/plain": [
       "   기준_년_코드  기준_분기_코드 상권_구분_코드 상권_구분_코드_명    상권_코드 상권_코드_명 서비스_업종_코드  \\\n",
       "0     2016         1        A       골목상권  1000013  율곡로10길  CS300011   \n",
       "1     2016         1        R       전통시장  1001271    동묘시장  CS300017   \n",
       "2     2016         1        A       골목상권  1000447  증가로10길  CS300006   \n",
       "\n",
       "  서비스_업종_코드_명   분기당_매출_금액  분기당_매출_건수  ...  연령대_10_매출_건수  연령대_20_매출_건수  \\\n",
       "0        일반의류  27000000.0         21  ...             0             0   \n",
       "1      시계및귀금속    649744.0         17  ...             0             0   \n",
       "2        미곡판매   1856535.0         40  ...             0             0   \n",
       "\n",
       "   연령대_30_매출_건수  연령대_40_매출_건수  연령대_50_매출_건수  연령대_60_이상_매출_건수  점포수        M지표  \\\n",
       "0             0             0             4                7    2  13.373679   \n",
       "1             0             0             8                9    1  10.551147   \n",
       "2             0             0            20               20    2  10.052239   \n",
       "\n",
       "   R지표       F지표  \n",
       "0  1.0  2.442347  \n",
       "1  1.0  2.890372  \n",
       "2  1.0  3.044522  \n",
       "\n",
       "[3 rows x 83 columns]"
      ]
     },
     "execution_count": 68,
     "metadata": {},
     "output_type": "execute_result"
    }
   ],
   "source": [
    "RFM_df.head(3)"
   ]
  },
  {
   "cell_type": "code",
   "execution_count": 70,
   "id": "042b3963",
   "metadata": {
    "ExecuteTime": {
     "end_time": "2021-10-28T05:45:34.802446Z",
     "start_time": "2021-10-28T05:45:34.687752Z"
    }
   },
   "outputs": [
    {
     "data": {
      "text/html": [
       "<div>\n",
       "<style scoped>\n",
       "    .dataframe tbody tr th:only-of-type {\n",
       "        vertical-align: middle;\n",
       "    }\n",
       "\n",
       "    .dataframe tbody tr th {\n",
       "        vertical-align: top;\n",
       "    }\n",
       "\n",
       "    .dataframe thead th {\n",
       "        text-align: right;\n",
       "    }\n",
       "</style>\n",
       "<table border=\"1\" class=\"dataframe\">\n",
       "  <thead>\n",
       "    <tr style=\"text-align: right;\">\n",
       "      <th></th>\n",
       "      <th>기준_년_코드</th>\n",
       "      <th>기준_분기_코드</th>\n",
       "      <th>남성_매출_비율</th>\n",
       "      <th>여성_매출_비율</th>\n",
       "      <th>연령대_10_매출_비율</th>\n",
       "      <th>연령대_20_매출_비율</th>\n",
       "      <th>연령대_30_매출_비율</th>\n",
       "      <th>연령대_40_매출_비율</th>\n",
       "      <th>연령대_50_매출_비율</th>\n",
       "      <th>연령대_60_이상_매출_비율</th>\n",
       "      <th>...</th>\n",
       "      <th>목요일_매출_비율</th>\n",
       "      <th>금요일_매출_비율</th>\n",
       "      <th>토요일_매출_비율</th>\n",
       "      <th>일요일_매출_비율</th>\n",
       "      <th>서비스_업종_코드_명</th>\n",
       "      <th>분기당_매출_금액</th>\n",
       "      <th>상권_구분_코드_명</th>\n",
       "      <th>R지표</th>\n",
       "      <th>F지표</th>\n",
       "      <th>M지표</th>\n",
       "    </tr>\n",
       "  </thead>\n",
       "  <tbody>\n",
       "    <tr>\n",
       "      <th>0</th>\n",
       "      <td>2016</td>\n",
       "      <td>1</td>\n",
       "      <td>0</td>\n",
       "      <td>100</td>\n",
       "      <td>0</td>\n",
       "      <td>0</td>\n",
       "      <td>0</td>\n",
       "      <td>0</td>\n",
       "      <td>36</td>\n",
       "      <td>64</td>\n",
       "      <td>...</td>\n",
       "      <td>0</td>\n",
       "      <td>0</td>\n",
       "      <td>0</td>\n",
       "      <td>0</td>\n",
       "      <td>일반의류</td>\n",
       "      <td>27000000.0</td>\n",
       "      <td>골목상권</td>\n",
       "      <td>1.0</td>\n",
       "      <td>2.442347</td>\n",
       "      <td>13.373679</td>\n",
       "    </tr>\n",
       "    <tr>\n",
       "      <th>1</th>\n",
       "      <td>2016</td>\n",
       "      <td>1</td>\n",
       "      <td>47</td>\n",
       "      <td>53</td>\n",
       "      <td>0</td>\n",
       "      <td>0</td>\n",
       "      <td>0</td>\n",
       "      <td>0</td>\n",
       "      <td>47</td>\n",
       "      <td>53</td>\n",
       "      <td>...</td>\n",
       "      <td>0</td>\n",
       "      <td>0</td>\n",
       "      <td>0</td>\n",
       "      <td>53</td>\n",
       "      <td>시계및귀금속</td>\n",
       "      <td>649744.0</td>\n",
       "      <td>전통시장</td>\n",
       "      <td>1.0</td>\n",
       "      <td>2.890372</td>\n",
       "      <td>10.551147</td>\n",
       "    </tr>\n",
       "    <tr>\n",
       "      <th>2</th>\n",
       "      <td>2016</td>\n",
       "      <td>1</td>\n",
       "      <td>50</td>\n",
       "      <td>50</td>\n",
       "      <td>0</td>\n",
       "      <td>0</td>\n",
       "      <td>0</td>\n",
       "      <td>0</td>\n",
       "      <td>50</td>\n",
       "      <td>50</td>\n",
       "      <td>...</td>\n",
       "      <td>0</td>\n",
       "      <td>0</td>\n",
       "      <td>0</td>\n",
       "      <td>0</td>\n",
       "      <td>미곡판매</td>\n",
       "      <td>1856535.0</td>\n",
       "      <td>골목상권</td>\n",
       "      <td>1.0</td>\n",
       "      <td>3.044522</td>\n",
       "      <td>10.052239</td>\n",
       "    </tr>\n",
       "  </tbody>\n",
       "</table>\n",
       "<p>3 rows × 23 columns</p>\n",
       "</div>"
      ],
      "text/plain": [
       "   기준_년_코드  기준_분기_코드  남성_매출_비율  여성_매출_비율  연령대_10_매출_비율  연령대_20_매출_비율  \\\n",
       "0     2016         1         0       100             0             0   \n",
       "1     2016         1        47        53             0             0   \n",
       "2     2016         1        50        50             0             0   \n",
       "\n",
       "   연령대_30_매출_비율  연령대_40_매출_비율  연령대_50_매출_비율  연령대_60_이상_매출_비율  ...  목요일_매출_비율  \\\n",
       "0             0             0            36               64  ...          0   \n",
       "1             0             0            47               53  ...          0   \n",
       "2             0             0            50               50  ...          0   \n",
       "\n",
       "   금요일_매출_비율  토요일_매출_비율  일요일_매출_비율  서비스_업종_코드_명   분기당_매출_금액  상권_구분_코드_명  R지표  \\\n",
       "0          0          0          0         일반의류  27000000.0        골목상권  1.0   \n",
       "1          0          0         53       시계및귀금속    649744.0        전통시장  1.0   \n",
       "2          0          0          0         미곡판매   1856535.0        골목상권  1.0   \n",
       "\n",
       "        F지표        M지표  \n",
       "0  2.442347  13.373679  \n",
       "1  2.890372  10.551147  \n",
       "2  3.044522  10.052239  \n",
       "\n",
       "[3 rows x 23 columns]"
      ]
     },
     "execution_count": 70,
     "metadata": {},
     "output_type": "execute_result"
    }
   ],
   "source": [
    "RFM_df_final=RFM_df[['기준_년_코드', '기준_분기_코드', '남성_매출_비율', '여성_매출_비율', '연령대_10_매출_비율', \n",
    "               '연령대_20_매출_비율', '연령대_30_매출_비율', '연령대_40_매출_비율',\n",
    "               '연령대_50_매출_비율', '연령대_60_이상_매출_비율', '월요일_매출_비율', '화요일_매출_비율', '수요일_매출_비율', '목요일_매출_비율',\n",
    "               '금요일_매출_비율', '토요일_매출_비율', '일요일_매출_비율',\n",
    "               '서비스_업종_코드_명', '분기당_매출_금액', '상권_구분_코드_명', 'R지표','F지표','M지표']]\n",
    "RFM_df_final.head(3)"
   ]
  },
  {
   "cell_type": "code",
   "execution_count": 71,
   "id": "d24fa54f",
   "metadata": {
    "ExecuteTime": {
     "end_time": "2021-10-28T05:46:03.204327Z",
     "start_time": "2021-10-28T05:46:03.069689Z"
    }
   },
   "outputs": [
    {
     "name": "stderr",
     "output_type": "stream",
     "text": [
      "C:\\Users\\Kim\\AppData\\Roaming\\Python\\Python37\\site-packages\\ipykernel_launcher.py:1: SettingWithCopyWarning: \n",
      "A value is trying to be set on a copy of a slice from a DataFrame.\n",
      "Try using .loc[row_indexer,col_indexer] = value instead\n",
      "\n",
      "See the caveats in the documentation: https://pandas.pydata.org/pandas-docs/stable/user_guide/indexing.html#returning-a-view-versus-a-copy\n",
      "  \"\"\"Entry point for launching an IPython kernel.\n",
      "C:\\Users\\Kim\\AppData\\Roaming\\Python\\Python37\\site-packages\\ipykernel_launcher.py:2: SettingWithCopyWarning: \n",
      "A value is trying to be set on a copy of a slice from a DataFrame.\n",
      "Try using .loc[row_indexer,col_indexer] = value instead\n",
      "\n",
      "See the caveats in the documentation: https://pandas.pydata.org/pandas-docs/stable/user_guide/indexing.html#returning-a-view-versus-a-copy\n",
      "  \n"
     ]
    },
    {
     "data": {
      "text/html": [
       "<div>\n",
       "<style scoped>\n",
       "    .dataframe tbody tr th:only-of-type {\n",
       "        vertical-align: middle;\n",
       "    }\n",
       "\n",
       "    .dataframe tbody tr th {\n",
       "        vertical-align: top;\n",
       "    }\n",
       "\n",
       "    .dataframe thead th {\n",
       "        text-align: right;\n",
       "    }\n",
       "</style>\n",
       "<table border=\"1\" class=\"dataframe\">\n",
       "  <thead>\n",
       "    <tr style=\"text-align: right;\">\n",
       "      <th></th>\n",
       "      <th>기준_년_코드</th>\n",
       "      <th>기준_분기_코드</th>\n",
       "      <th>남성_매출_비율</th>\n",
       "      <th>여성_매출_비율</th>\n",
       "      <th>연령대_10_매출_비율</th>\n",
       "      <th>연령대_20_매출_비율</th>\n",
       "      <th>연령대_30_매출_비율</th>\n",
       "      <th>연령대_40_매출_비율</th>\n",
       "      <th>연령대_50_매출_비율</th>\n",
       "      <th>연령대_60_이상_매출_비율</th>\n",
       "      <th>...</th>\n",
       "      <th>목요일_매출_비율</th>\n",
       "      <th>금요일_매출_비율</th>\n",
       "      <th>토요일_매출_비율</th>\n",
       "      <th>일요일_매출_비율</th>\n",
       "      <th>서비스_업종_코드_명</th>\n",
       "      <th>분기당_매출_금액</th>\n",
       "      <th>상권_구분_코드_명</th>\n",
       "      <th>R지표</th>\n",
       "      <th>F지표</th>\n",
       "      <th>M지표</th>\n",
       "    </tr>\n",
       "  </thead>\n",
       "  <tbody>\n",
       "    <tr>\n",
       "      <th>0</th>\n",
       "      <td>2016</td>\n",
       "      <td>1</td>\n",
       "      <td>0</td>\n",
       "      <td>100</td>\n",
       "      <td>0</td>\n",
       "      <td>0</td>\n",
       "      <td>0</td>\n",
       "      <td>0</td>\n",
       "      <td>36</td>\n",
       "      <td>64</td>\n",
       "      <td>...</td>\n",
       "      <td>0</td>\n",
       "      <td>0</td>\n",
       "      <td>0</td>\n",
       "      <td>0</td>\n",
       "      <td>일반의류</td>\n",
       "      <td>27000000.0</td>\n",
       "      <td>골목상권</td>\n",
       "      <td>1.0</td>\n",
       "      <td>2.4</td>\n",
       "      <td>13.4</td>\n",
       "    </tr>\n",
       "    <tr>\n",
       "      <th>1</th>\n",
       "      <td>2016</td>\n",
       "      <td>1</td>\n",
       "      <td>47</td>\n",
       "      <td>53</td>\n",
       "      <td>0</td>\n",
       "      <td>0</td>\n",
       "      <td>0</td>\n",
       "      <td>0</td>\n",
       "      <td>47</td>\n",
       "      <td>53</td>\n",
       "      <td>...</td>\n",
       "      <td>0</td>\n",
       "      <td>0</td>\n",
       "      <td>0</td>\n",
       "      <td>53</td>\n",
       "      <td>시계및귀금속</td>\n",
       "      <td>649744.0</td>\n",
       "      <td>전통시장</td>\n",
       "      <td>1.0</td>\n",
       "      <td>2.9</td>\n",
       "      <td>10.6</td>\n",
       "    </tr>\n",
       "    <tr>\n",
       "      <th>2</th>\n",
       "      <td>2016</td>\n",
       "      <td>1</td>\n",
       "      <td>50</td>\n",
       "      <td>50</td>\n",
       "      <td>0</td>\n",
       "      <td>0</td>\n",
       "      <td>0</td>\n",
       "      <td>0</td>\n",
       "      <td>50</td>\n",
       "      <td>50</td>\n",
       "      <td>...</td>\n",
       "      <td>0</td>\n",
       "      <td>0</td>\n",
       "      <td>0</td>\n",
       "      <td>0</td>\n",
       "      <td>미곡판매</td>\n",
       "      <td>1856535.0</td>\n",
       "      <td>골목상권</td>\n",
       "      <td>1.0</td>\n",
       "      <td>3.0</td>\n",
       "      <td>10.1</td>\n",
       "    </tr>\n",
       "    <tr>\n",
       "      <th>3</th>\n",
       "      <td>2016</td>\n",
       "      <td>1</td>\n",
       "      <td>100</td>\n",
       "      <td>0</td>\n",
       "      <td>0</td>\n",
       "      <td>0</td>\n",
       "      <td>0</td>\n",
       "      <td>100</td>\n",
       "      <td>0</td>\n",
       "      <td>0</td>\n",
       "      <td>...</td>\n",
       "      <td>0</td>\n",
       "      <td>0</td>\n",
       "      <td>100</td>\n",
       "      <td>0</td>\n",
       "      <td>인테리어</td>\n",
       "      <td>152749.0</td>\n",
       "      <td>전통시장</td>\n",
       "      <td>1.0</td>\n",
       "      <td>1.3</td>\n",
       "      <td>9.6</td>\n",
       "    </tr>\n",
       "    <tr>\n",
       "      <th>4</th>\n",
       "      <td>2016</td>\n",
       "      <td>1</td>\n",
       "      <td>100</td>\n",
       "      <td>0</td>\n",
       "      <td>0</td>\n",
       "      <td>100</td>\n",
       "      <td>0</td>\n",
       "      <td>0</td>\n",
       "      <td>0</td>\n",
       "      <td>0</td>\n",
       "      <td>...</td>\n",
       "      <td>0</td>\n",
       "      <td>100</td>\n",
       "      <td>0</td>\n",
       "      <td>0</td>\n",
       "      <td>신발</td>\n",
       "      <td>1000000.0</td>\n",
       "      <td>골목상권</td>\n",
       "      <td>1.0</td>\n",
       "      <td>1.1</td>\n",
       "      <td>11.7</td>\n",
       "    </tr>\n",
       "  </tbody>\n",
       "</table>\n",
       "<p>5 rows × 23 columns</p>\n",
       "</div>"
      ],
      "text/plain": [
       "   기준_년_코드  기준_분기_코드  남성_매출_비율  여성_매출_비율  연령대_10_매출_비율  연령대_20_매출_비율  \\\n",
       "0     2016         1         0       100             0             0   \n",
       "1     2016         1        47        53             0             0   \n",
       "2     2016         1        50        50             0             0   \n",
       "3     2016         1       100         0             0             0   \n",
       "4     2016         1       100         0             0           100   \n",
       "\n",
       "   연령대_30_매출_비율  연령대_40_매출_비율  연령대_50_매출_비율  연령대_60_이상_매출_비율  ...  목요일_매출_비율  \\\n",
       "0             0             0            36               64  ...          0   \n",
       "1             0             0            47               53  ...          0   \n",
       "2             0             0            50               50  ...          0   \n",
       "3             0           100             0                0  ...          0   \n",
       "4             0             0             0                0  ...          0   \n",
       "\n",
       "   금요일_매출_비율  토요일_매출_비율  일요일_매출_비율  서비스_업종_코드_명   분기당_매출_금액  상권_구분_코드_명  R지표  \\\n",
       "0          0          0          0         일반의류  27000000.0        골목상권  1.0   \n",
       "1          0          0         53       시계및귀금속    649744.0        전통시장  1.0   \n",
       "2          0          0          0         미곡판매   1856535.0        골목상권  1.0   \n",
       "3          0        100          0         인테리어    152749.0        전통시장  1.0   \n",
       "4        100          0          0           신발   1000000.0        골목상권  1.0   \n",
       "\n",
       "   F지표   M지표  \n",
       "0  2.4  13.4  \n",
       "1  2.9  10.6  \n",
       "2  3.0  10.1  \n",
       "3  1.3   9.6  \n",
       "4  1.1  11.7  \n",
       "\n",
       "[5 rows x 23 columns]"
      ]
     },
     "execution_count": 71,
     "metadata": {},
     "output_type": "execute_result"
    }
   ],
   "source": [
    "RFM_df_final['F지표']=RFM_df_final['F지표'].round(1)\n",
    "RFM_df_final['M지표']=RFM_df_final['M지표'].round(1)\n",
    "RFM_df_final.head()"
   ]
  },
  {
   "cell_type": "markdown",
   "id": "1b7fc29f",
   "metadata": {},
   "source": [
    "# 서비스업종 별 그룹핑"
   ]
  },
  {
   "cell_type": "code",
   "execution_count": 72,
   "id": "3c792980",
   "metadata": {
    "ExecuteTime": {
     "end_time": "2021-10-28T05:48:05.459443Z",
     "start_time": "2021-10-28T05:48:05.234154Z"
    }
   },
   "outputs": [
    {
     "data": {
      "text/html": [
       "<div>\n",
       "<style scoped>\n",
       "    .dataframe tbody tr th:only-of-type {\n",
       "        vertical-align: middle;\n",
       "    }\n",
       "\n",
       "    .dataframe tbody tr th {\n",
       "        vertical-align: top;\n",
       "    }\n",
       "\n",
       "    .dataframe thead th {\n",
       "        text-align: right;\n",
       "    }\n",
       "</style>\n",
       "<table border=\"1\" class=\"dataframe\">\n",
       "  <thead>\n",
       "    <tr style=\"text-align: right;\">\n",
       "      <th></th>\n",
       "      <th>남성_매출_비율</th>\n",
       "      <th>여성_매출_비율</th>\n",
       "      <th>연령대_10_매출_비율</th>\n",
       "      <th>연령대_20_매출_비율</th>\n",
       "      <th>연령대_30_매출_비율</th>\n",
       "      <th>연령대_40_매출_비율</th>\n",
       "      <th>연령대_50_매출_비율</th>\n",
       "      <th>연령대_60_이상_매출_비율</th>\n",
       "      <th>월요일_매출_비율</th>\n",
       "      <th>화요일_매출_비율</th>\n",
       "      <th>수요일_매출_비율</th>\n",
       "      <th>목요일_매출_비율</th>\n",
       "      <th>금요일_매출_비율</th>\n",
       "      <th>토요일_매출_비율</th>\n",
       "      <th>일요일_매출_비율</th>\n",
       "    </tr>\n",
       "    <tr>\n",
       "      <th>서비스_업종_코드_명</th>\n",
       "      <th></th>\n",
       "      <th></th>\n",
       "      <th></th>\n",
       "      <th></th>\n",
       "      <th></th>\n",
       "      <th></th>\n",
       "      <th></th>\n",
       "      <th></th>\n",
       "      <th></th>\n",
       "      <th></th>\n",
       "      <th></th>\n",
       "      <th></th>\n",
       "      <th></th>\n",
       "      <th></th>\n",
       "      <th></th>\n",
       "    </tr>\n",
       "  </thead>\n",
       "  <tbody>\n",
       "    <tr>\n",
       "      <th>PC방</th>\n",
       "      <td>81.959539</td>\n",
       "      <td>18.137291</td>\n",
       "      <td>11.954697</td>\n",
       "      <td>63.076657</td>\n",
       "      <td>14.309280</td>\n",
       "      <td>5.799308</td>\n",
       "      <td>4.216945</td>\n",
       "      <td>0.879539</td>\n",
       "      <td>12.956657</td>\n",
       "      <td>12.745937</td>\n",
       "      <td>12.898098</td>\n",
       "      <td>12.891643</td>\n",
       "      <td>14.538559</td>\n",
       "      <td>17.420749</td>\n",
       "      <td>16.908473</td>\n",
       "    </tr>\n",
       "    <tr>\n",
       "      <th>가구</th>\n",
       "      <td>42.918840</td>\n",
       "      <td>57.003964</td>\n",
       "      <td>0.153557</td>\n",
       "      <td>6.385980</td>\n",
       "      <td>15.731275</td>\n",
       "      <td>22.633424</td>\n",
       "      <td>30.171500</td>\n",
       "      <td>24.933653</td>\n",
       "      <td>14.719382</td>\n",
       "      <td>13.955560</td>\n",
       "      <td>14.285416</td>\n",
       "      <td>13.980805</td>\n",
       "      <td>13.623201</td>\n",
       "      <td>17.578552</td>\n",
       "      <td>12.088462</td>\n",
       "    </tr>\n",
       "  </tbody>\n",
       "</table>\n",
       "</div>"
      ],
      "text/plain": [
       "              남성_매출_비율   여성_매출_비율  연령대_10_매출_비율  연령대_20_매출_비율  연령대_30_매출_비율  \\\n",
       "서비스_업종_코드_명                                                                   \n",
       "PC방          81.959539  18.137291     11.954697     63.076657     14.309280   \n",
       "가구           42.918840  57.003964      0.153557      6.385980     15.731275   \n",
       "\n",
       "             연령대_40_매출_비율  연령대_50_매출_비율  연령대_60_이상_매출_비율  월요일_매출_비율  \\\n",
       "서비스_업종_코드_명                                                           \n",
       "PC방              5.799308      4.216945         0.879539  12.956657   \n",
       "가구              22.633424     30.171500        24.933653  14.719382   \n",
       "\n",
       "             화요일_매출_비율  수요일_매출_비율  목요일_매출_비율  금요일_매출_비율  토요일_매출_비율  일요일_매출_비율  \n",
       "서비스_업종_코드_명                                                                    \n",
       "PC방          12.745937  12.898098  12.891643  14.538559  17.420749  16.908473  \n",
       "가구           13.955560  14.285416  13.980805  13.623201  17.578552  12.088462  "
      ]
     },
     "execution_count": 72,
     "metadata": {},
     "output_type": "execute_result"
    }
   ],
   "source": [
    "other_cols = RFM_df_final[['남성_매출_비율', '여성_매출_비율', '연령대_10_매출_비율',\n",
    "       '연령대_20_매출_비율', '연령대_30_매출_비율', '연령대_40_매출_비율', '연령대_50_매출_비율',\n",
    "       '연령대_60_이상_매출_비율', '월요일_매출_비율', '화요일_매출_비율', '수요일_매출_비율', '목요일_매출_비율',\n",
    "       '금요일_매출_비율', '토요일_매출_비율', '일요일_매출_비율', '서비스_업종_코드_명']]\n",
    "\n",
    "other_cols_grp = other_cols.groupby('서비스_업종_코드_명').mean()\n",
    "\n",
    "other_cols_grp.head(2)"
   ]
  },
  {
   "cell_type": "code",
   "execution_count": 73,
   "id": "7b9c6b02",
   "metadata": {
    "ExecuteTime": {
     "end_time": "2021-10-28T05:48:40.678312Z",
     "start_time": "2021-10-28T05:48:40.283933Z"
    }
   },
   "outputs": [
    {
     "data": {
      "text/html": [
       "<div>\n",
       "<style scoped>\n",
       "    .dataframe tbody tr th:only-of-type {\n",
       "        vertical-align: middle;\n",
       "    }\n",
       "\n",
       "    .dataframe tbody tr th {\n",
       "        vertical-align: top;\n",
       "    }\n",
       "\n",
       "    .dataframe thead th {\n",
       "        text-align: right;\n",
       "    }\n",
       "</style>\n",
       "<table border=\"1\" class=\"dataframe\">\n",
       "  <thead>\n",
       "    <tr style=\"text-align: right;\">\n",
       "      <th></th>\n",
       "      <th>R지표</th>\n",
       "      <th>F지표</th>\n",
       "      <th>M지표</th>\n",
       "      <th>총구매액</th>\n",
       "    </tr>\n",
       "    <tr>\n",
       "      <th>서비스_업종_코드_명</th>\n",
       "      <th></th>\n",
       "      <th></th>\n",
       "      <th></th>\n",
       "      <th></th>\n",
       "    </tr>\n",
       "  </thead>\n",
       "  <tbody>\n",
       "    <tr>\n",
       "      <th>PC방</th>\n",
       "      <td>3.672594</td>\n",
       "      <td>9.308622</td>\n",
       "      <td>7.756749</td>\n",
       "      <td>1.919232e+12</td>\n",
       "    </tr>\n",
       "    <tr>\n",
       "      <th>가구</th>\n",
       "      <td>3.464427</td>\n",
       "      <td>4.666472</td>\n",
       "      <td>11.545900</td>\n",
       "      <td>3.341568e+12</td>\n",
       "    </tr>\n",
       "    <tr>\n",
       "      <th>가방</th>\n",
       "      <td>3.237308</td>\n",
       "      <td>5.267057</td>\n",
       "      <td>9.787922</td>\n",
       "      <td>1.643071e+12</td>\n",
       "    </tr>\n",
       "    <tr>\n",
       "      <th>가전제품</th>\n",
       "      <td>3.327763</td>\n",
       "      <td>5.429604</td>\n",
       "      <td>11.116808</td>\n",
       "      <td>5.041353e+12</td>\n",
       "    </tr>\n",
       "    <tr>\n",
       "      <th>가전제품수리</th>\n",
       "      <td>3.506561</td>\n",
       "      <td>4.725538</td>\n",
       "      <td>10.492362</td>\n",
       "      <td>2.262060e+11</td>\n",
       "    </tr>\n",
       "  </tbody>\n",
       "</table>\n",
       "</div>"
      ],
      "text/plain": [
       "                  R지표       F지표        M지표          총구매액\n",
       "서비스_업종_코드_명                                             \n",
       "PC방          3.672594  9.308622   7.756749  1.919232e+12\n",
       "가구           3.464427  4.666472  11.545900  3.341568e+12\n",
       "가방           3.237308  5.267057   9.787922  1.643071e+12\n",
       "가전제품         3.327763  5.429604  11.116808  5.041353e+12\n",
       "가전제품수리       3.506561  4.725538  10.492362  2.262060e+11"
      ]
     },
     "execution_count": 73,
     "metadata": {},
     "output_type": "execute_result"
    }
   ],
   "source": [
    "# 서비스업종 별 R, F, M 평균과 분기당 매출금액의 합계를 산출\n",
    "\n",
    "rfm_score_grp = RFM_df_final.groupby('서비스_업종_코드_명').mean()[['R지표', 'F지표', 'M지표']]\n",
    "total_amount = RFM_df_final.groupby('서비스_업종_코드_명').sum()[['분기당_매출_금액']]\n",
    "final_rfm = pd.concat([rfm_score_grp, total_amount], axis=1)\n",
    "\n",
    "final_rfm.rename(columns = {'분기당_매출_금액' : '총구매액'}, inplace = True)\n",
    "final_rfm.head(5)"
   ]
  },
  {
   "cell_type": "code",
   "execution_count": 74,
   "id": "fe6ce0f4",
   "metadata": {
    "ExecuteTime": {
     "end_time": "2021-10-28T05:49:15.314813Z",
     "start_time": "2021-10-28T05:49:15.276915Z"
    }
   },
   "outputs": [
    {
     "data": {
      "text/html": [
       "<div>\n",
       "<style scoped>\n",
       "    .dataframe tbody tr th:only-of-type {\n",
       "        vertical-align: middle;\n",
       "    }\n",
       "\n",
       "    .dataframe tbody tr th {\n",
       "        vertical-align: top;\n",
       "    }\n",
       "\n",
       "    .dataframe thead th {\n",
       "        text-align: right;\n",
       "    }\n",
       "</style>\n",
       "<table border=\"1\" class=\"dataframe\">\n",
       "  <thead>\n",
       "    <tr style=\"text-align: right;\">\n",
       "      <th></th>\n",
       "      <th>R지표</th>\n",
       "      <th>F지표</th>\n",
       "      <th>M지표</th>\n",
       "      <th>총구매액</th>\n",
       "      <th>남성_매출_비율</th>\n",
       "      <th>여성_매출_비율</th>\n",
       "      <th>연령대_10_매출_비율</th>\n",
       "      <th>연령대_20_매출_비율</th>\n",
       "      <th>연령대_30_매출_비율</th>\n",
       "      <th>연령대_40_매출_비율</th>\n",
       "      <th>연령대_50_매출_비율</th>\n",
       "      <th>연령대_60_이상_매출_비율</th>\n",
       "      <th>월요일_매출_비율</th>\n",
       "      <th>화요일_매출_비율</th>\n",
       "      <th>수요일_매출_비율</th>\n",
       "      <th>목요일_매출_비율</th>\n",
       "      <th>금요일_매출_비율</th>\n",
       "      <th>토요일_매출_비율</th>\n",
       "      <th>일요일_매출_비율</th>\n",
       "    </tr>\n",
       "    <tr>\n",
       "      <th>서비스_업종_코드_명</th>\n",
       "      <th></th>\n",
       "      <th></th>\n",
       "      <th></th>\n",
       "      <th></th>\n",
       "      <th></th>\n",
       "      <th></th>\n",
       "      <th></th>\n",
       "      <th></th>\n",
       "      <th></th>\n",
       "      <th></th>\n",
       "      <th></th>\n",
       "      <th></th>\n",
       "      <th></th>\n",
       "      <th></th>\n",
       "      <th></th>\n",
       "      <th></th>\n",
       "      <th></th>\n",
       "      <th></th>\n",
       "      <th></th>\n",
       "    </tr>\n",
       "  </thead>\n",
       "  <tbody>\n",
       "    <tr>\n",
       "      <th>PC방</th>\n",
       "      <td>3.672594</td>\n",
       "      <td>9.308622</td>\n",
       "      <td>7.756749</td>\n",
       "      <td>1.919232e+12</td>\n",
       "      <td>81.959539</td>\n",
       "      <td>18.137291</td>\n",
       "      <td>11.954697</td>\n",
       "      <td>63.076657</td>\n",
       "      <td>14.309280</td>\n",
       "      <td>5.799308</td>\n",
       "      <td>4.216945</td>\n",
       "      <td>0.879539</td>\n",
       "      <td>12.956657</td>\n",
       "      <td>12.745937</td>\n",
       "      <td>12.898098</td>\n",
       "      <td>12.891643</td>\n",
       "      <td>14.538559</td>\n",
       "      <td>17.420749</td>\n",
       "      <td>16.908473</td>\n",
       "    </tr>\n",
       "    <tr>\n",
       "      <th>가구</th>\n",
       "      <td>3.464427</td>\n",
       "      <td>4.666472</td>\n",
       "      <td>11.545900</td>\n",
       "      <td>3.341568e+12</td>\n",
       "      <td>42.918840</td>\n",
       "      <td>57.003964</td>\n",
       "      <td>0.153557</td>\n",
       "      <td>6.385980</td>\n",
       "      <td>15.731275</td>\n",
       "      <td>22.633424</td>\n",
       "      <td>30.171500</td>\n",
       "      <td>24.933653</td>\n",
       "      <td>14.719382</td>\n",
       "      <td>13.955560</td>\n",
       "      <td>14.285416</td>\n",
       "      <td>13.980805</td>\n",
       "      <td>13.623201</td>\n",
       "      <td>17.578552</td>\n",
       "      <td>12.088462</td>\n",
       "    </tr>\n",
       "  </tbody>\n",
       "</table>\n",
       "</div>"
      ],
      "text/plain": [
       "                  R지표       F지표        M지표          총구매액   남성_매출_비율  \\\n",
       "서비스_업종_코드_명                                                           \n",
       "PC방          3.672594  9.308622   7.756749  1.919232e+12  81.959539   \n",
       "가구           3.464427  4.666472  11.545900  3.341568e+12  42.918840   \n",
       "\n",
       "              여성_매출_비율  연령대_10_매출_비율  연령대_20_매출_비율  연령대_30_매출_비율  \\\n",
       "서비스_업종_코드_명                                                        \n",
       "PC방          18.137291     11.954697     63.076657     14.309280   \n",
       "가구           57.003964      0.153557      6.385980     15.731275   \n",
       "\n",
       "             연령대_40_매출_비율  연령대_50_매출_비율  연령대_60_이상_매출_비율  월요일_매출_비율  \\\n",
       "서비스_업종_코드_명                                                           \n",
       "PC방              5.799308      4.216945         0.879539  12.956657   \n",
       "가구              22.633424     30.171500        24.933653  14.719382   \n",
       "\n",
       "             화요일_매출_비율  수요일_매출_비율  목요일_매출_비율  금요일_매출_비율  토요일_매출_비율  일요일_매출_비율  \n",
       "서비스_업종_코드_명                                                                    \n",
       "PC방          12.745937  12.898098  12.891643  14.538559  17.420749  16.908473  \n",
       "가구           13.955560  14.285416  13.980805  13.623201  17.578552  12.088462  "
      ]
     },
     "execution_count": 74,
     "metadata": {},
     "output_type": "execute_result"
    }
   ],
   "source": [
    "final_rfm = pd.concat([final_rfm, other_cols_grp], axis=1)\n",
    "final_rfm.head(2)"
   ]
  },
  {
   "cell_type": "markdown",
   "id": "5ab2fc53",
   "metadata": {},
   "source": [
    "# RFM 가중치 계산"
   ]
  },
  {
   "cell_type": "code",
   "execution_count": 75,
   "id": "272b47c0",
   "metadata": {
    "ExecuteTime": {
     "end_time": "2021-10-28T05:49:37.040643Z",
     "start_time": "2021-10-28T05:49:37.027677Z"
    }
   },
   "outputs": [],
   "source": [
    "def get_score(level, data, reverse = False):\n",
    "    '''\n",
    "    Description :\n",
    "    level안에 있는 원소를 기준으로\n",
    "    1 ~ len(level)+ 1 까지 점수를 부여하는 함수\n",
    "    \n",
    "    Parameters :\n",
    "    level = 튜플 또는 리스트 타입의 숫자형 데이터이며 반드시 오름차순으로 정렬되어 있어야함.\n",
    "    예 - [1,2,3,4,5] O, [5,4,3,2,1] X, [1,3,2,10,4] X \n",
    "    data = 점수를 부여할 데이터. 순회가능한(iterable) 데이터 형식\n",
    "    reverse = 점수가 높을 때 그에 해당하는 값을 낮게 설정하고 싶을 때 True\n",
    "    return :\n",
    "    점수를 담고 있는 리스트 반환\n",
    "    '''\n",
    "    score = [] \n",
    "    for j in range(len(data)): \n",
    "        for i in range(len(level)): \n",
    "            if data[j] <= level[i]: \n",
    "                score.append(i+1) \n",
    "                break \n",
    "            elif data[j] > max(level): \n",
    "                score.append(len(level)+1) \n",
    "                break \n",
    "            else: \n",
    "                continue\n",
    "    if reverse:\n",
    "        return [len(level)+2-x for x in score]\n",
    "    else:\n",
    "        return score \n",
    " \n",
    "grid_number = 100 ## 눈금 개수, 너무 크게 잡으면 메모리 문제가 발생할 수 있음.\n",
    "                #grid_number을 100보다 크게 잡으면 컴퓨터가 멈출 수 있어서 100으로 설정\n",
    "weights = []\n",
    "for j in range(grid_number+1): \n",
    "    weights += [(i/grid_number,j/grid_number,(grid_number-i-j)/grid_number)\n",
    "                  for i in range(grid_number+1-j)]\n",
    "num_class = 5 ## 클래스 개수\n",
    "class_level = np.linspace(1,5,num_class+1)[1:-1] ## 클래스를 나누는 지점을 정한다, 등급의 기준점을 구함\n",
    "total_amount_of_sales = final_rfm['총구매액'].sum() ## 구매금액 총합 = 총 매\n"
   ]
  },
  {
   "cell_type": "code",
   "execution_count": 78,
   "id": "5c11c9ea",
   "metadata": {
    "ExecuteTime": {
     "end_time": "2021-10-28T05:50:10.290429Z",
     "start_time": "2021-10-28T05:49:54.802191Z"
    }
   },
   "outputs": [
    {
     "name": "stderr",
     "output_type": "stream",
     "text": [
      "[Finding Optimal weights]: 100%|██████████████████████████████████████████████████| 5151/5151 [00:15<00:00, 334.77it/s]\n"
     ]
    }
   ],
   "source": [
    "from tqdm import tqdm\n",
    "\n",
    "max_std = 0 ## 표준편차 값 초기값(표준편차 값 초기화)\n",
    "for w in tqdm(weights,position=0,desc = '[Finding Optimal weights]'):\n",
    "    ## 주어진 가중치에 따른 고객별 점수 계산\n",
    "    score = w[0]*final_rfm['R지표'] + \\\n",
    "                        w[1]*final_rfm['F지표'] + \\\n",
    "                        w[2]*final_rfm['M지표']  # 가중치와 RFM 점수를 이용하여 고객별 총 점수를 구함\n",
    "    final_rfm['Class'] = get_score(class_level,score,True) ## 구한 점수를 이용하여 고객별 등급 부여\n",
    "    ## 등급별로 구매금액을 집계한다.\n",
    "    grouped_rfm_score = final_rfm.groupby('Class')['총구매액'].sum().reset_index()\n",
    "        \n",
    "    ## 클래스별 구매금액을 총구매금액으로 나누어 클래스별 매출 기여도 계산\n",
    "    grouped_rfm_score['총구매액'] = grouped_rfm_score['총구매액'].map(lambda x : x/total_amount_of_sales)\n",
    "    std_sales = grouped_rfm_score['총구매액'].std() ## 매출 기여도의 표준편차 계산\n",
    "    #현재 표준편차 값과 최대 표준편차 값을 비교하여 더 큰 값을 최대 표준편차 값으로 업데이트\n",
    "    if max_std <= std_sales:\n",
    "        max_std = std_sales ## 표준편차 최대값 업데이트\n",
    "        optimal_weights = w  ## 가중치 업데이트"
   ]
  },
  {
   "cell_type": "code",
   "execution_count": 79,
   "id": "66955cf5",
   "metadata": {
    "ExecuteTime": {
     "end_time": "2021-10-28T05:50:12.154223Z",
     "start_time": "2021-10-28T05:50:12.143255Z"
    }
   },
   "outputs": [
    {
     "data": {
      "text/plain": [
       "(0.39, 0.45, 0.16)"
      ]
     },
     "execution_count": 79,
     "metadata": {},
     "output_type": "execute_result"
    }
   ],
   "source": [
    "# 최종 가중치 계산 결과\n",
    "\n",
    "optimal_weights"
   ]
  },
  {
   "cell_type": "markdown",
   "id": "ca34cce5",
   "metadata": {},
   "source": [
    "# 가중치와 RFM 점수를 이용한 서비스업종 별 등급 부여"
   ]
  },
  {
   "cell_type": "code",
   "execution_count": 80,
   "id": "73a85cea",
   "metadata": {
    "ExecuteTime": {
     "end_time": "2021-10-28T05:50:27.424138Z",
     "start_time": "2021-10-28T05:50:27.413169Z"
    }
   },
   "outputs": [],
   "source": [
    "score = optimal_weights[0]*final_rfm['R지표'] + \\\n",
    "        optimal_weights[1]*final_rfm['F지표'] + \\\n",
    "        optimal_weights[2]*final_rfm['M지표'] ## 점수 계산\n",
    "\n",
    "class_level = np.linspace(np.min(score), np.max(score), num_class+1)[1:-1] ## 클래스를 나누는 지점을 정한다, 등급의 기준점을 구함\n",
    "class_level\n",
    "final_rfm['Class'] = get_score(class_level,score,True) ## 등급 부여"
   ]
  },
  {
   "cell_type": "code",
   "execution_count": 81,
   "id": "2e016361",
   "metadata": {
    "ExecuteTime": {
     "end_time": "2021-10-28T05:50:31.519333Z",
     "start_time": "2021-10-28T05:50:31.501382Z"
    }
   },
   "outputs": [
    {
     "data": {
      "text/html": [
       "<div>\n",
       "<style scoped>\n",
       "    .dataframe tbody tr th:only-of-type {\n",
       "        vertical-align: middle;\n",
       "    }\n",
       "\n",
       "    .dataframe tbody tr th {\n",
       "        vertical-align: top;\n",
       "    }\n",
       "\n",
       "    .dataframe thead th {\n",
       "        text-align: right;\n",
       "    }\n",
       "</style>\n",
       "<table border=\"1\" class=\"dataframe\">\n",
       "  <thead>\n",
       "    <tr style=\"text-align: right;\">\n",
       "      <th></th>\n",
       "      <th>R지표</th>\n",
       "      <th>F지표</th>\n",
       "      <th>M지표</th>\n",
       "      <th>총구매액</th>\n",
       "      <th>남성_매출_비율</th>\n",
       "      <th>여성_매출_비율</th>\n",
       "      <th>연령대_10_매출_비율</th>\n",
       "      <th>연령대_20_매출_비율</th>\n",
       "      <th>연령대_30_매출_비율</th>\n",
       "      <th>연령대_40_매출_비율</th>\n",
       "      <th>연령대_50_매출_비율</th>\n",
       "      <th>연령대_60_이상_매출_비율</th>\n",
       "      <th>월요일_매출_비율</th>\n",
       "      <th>화요일_매출_비율</th>\n",
       "      <th>수요일_매출_비율</th>\n",
       "      <th>목요일_매출_비율</th>\n",
       "      <th>금요일_매출_비율</th>\n",
       "      <th>토요일_매출_비율</th>\n",
       "      <th>일요일_매출_비율</th>\n",
       "      <th>Class</th>\n",
       "    </tr>\n",
       "    <tr>\n",
       "      <th>서비스_업종_코드_명</th>\n",
       "      <th></th>\n",
       "      <th></th>\n",
       "      <th></th>\n",
       "      <th></th>\n",
       "      <th></th>\n",
       "      <th></th>\n",
       "      <th></th>\n",
       "      <th></th>\n",
       "      <th></th>\n",
       "      <th></th>\n",
       "      <th></th>\n",
       "      <th></th>\n",
       "      <th></th>\n",
       "      <th></th>\n",
       "      <th></th>\n",
       "      <th></th>\n",
       "      <th></th>\n",
       "      <th></th>\n",
       "      <th></th>\n",
       "      <th></th>\n",
       "    </tr>\n",
       "  </thead>\n",
       "  <tbody>\n",
       "    <tr>\n",
       "      <th>PC방</th>\n",
       "      <td>3.672594</td>\n",
       "      <td>9.308622</td>\n",
       "      <td>7.756749</td>\n",
       "      <td>1.919232e+12</td>\n",
       "      <td>81.959539</td>\n",
       "      <td>18.137291</td>\n",
       "      <td>11.954697</td>\n",
       "      <td>63.076657</td>\n",
       "      <td>14.309280</td>\n",
       "      <td>5.799308</td>\n",
       "      <td>4.216945</td>\n",
       "      <td>0.879539</td>\n",
       "      <td>12.956657</td>\n",
       "      <td>12.745937</td>\n",
       "      <td>12.898098</td>\n",
       "      <td>12.891643</td>\n",
       "      <td>14.538559</td>\n",
       "      <td>17.420749</td>\n",
       "      <td>16.908473</td>\n",
       "      <td>1</td>\n",
       "    </tr>\n",
       "    <tr>\n",
       "      <th>가구</th>\n",
       "      <td>3.464427</td>\n",
       "      <td>4.666472</td>\n",
       "      <td>11.545900</td>\n",
       "      <td>3.341568e+12</td>\n",
       "      <td>42.918840</td>\n",
       "      <td>57.003964</td>\n",
       "      <td>0.153557</td>\n",
       "      <td>6.385980</td>\n",
       "      <td>15.731275</td>\n",
       "      <td>22.633424</td>\n",
       "      <td>30.171500</td>\n",
       "      <td>24.933653</td>\n",
       "      <td>14.719382</td>\n",
       "      <td>13.955560</td>\n",
       "      <td>14.285416</td>\n",
       "      <td>13.980805</td>\n",
       "      <td>13.623201</td>\n",
       "      <td>17.578552</td>\n",
       "      <td>12.088462</td>\n",
       "      <td>4</td>\n",
       "    </tr>\n",
       "  </tbody>\n",
       "</table>\n",
       "</div>"
      ],
      "text/plain": [
       "                  R지표       F지표        M지표          총구매액   남성_매출_비율  \\\n",
       "서비스_업종_코드_명                                                           \n",
       "PC방          3.672594  9.308622   7.756749  1.919232e+12  81.959539   \n",
       "가구           3.464427  4.666472  11.545900  3.341568e+12  42.918840   \n",
       "\n",
       "              여성_매출_비율  연령대_10_매출_비율  연령대_20_매출_비율  연령대_30_매출_비율  \\\n",
       "서비스_업종_코드_명                                                        \n",
       "PC방          18.137291     11.954697     63.076657     14.309280   \n",
       "가구           57.003964      0.153557      6.385980     15.731275   \n",
       "\n",
       "             연령대_40_매출_비율  연령대_50_매출_비율  연령대_60_이상_매출_비율  월요일_매출_비율  \\\n",
       "서비스_업종_코드_명                                                           \n",
       "PC방              5.799308      4.216945         0.879539  12.956657   \n",
       "가구              22.633424     30.171500        24.933653  14.719382   \n",
       "\n",
       "             화요일_매출_비율  수요일_매출_비율  목요일_매출_비율  금요일_매출_비율  토요일_매출_비율  일요일_매출_비율  \\\n",
       "서비스_업종_코드_명                                                                     \n",
       "PC방          12.745937  12.898098  12.891643  14.538559  17.420749  16.908473   \n",
       "가구           13.955560  14.285416  13.980805  13.623201  17.578552  12.088462   \n",
       "\n",
       "             Class  \n",
       "서비스_업종_코드_명         \n",
       "PC방              1  \n",
       "가구               4  "
      ]
     },
     "execution_count": 81,
     "metadata": {},
     "output_type": "execute_result"
    }
   ],
   "source": [
    "final_rfm.head(2)"
   ]
  },
  {
   "cell_type": "code",
   "execution_count": 84,
   "id": "87689434",
   "metadata": {
    "ExecuteTime": {
     "end_time": "2021-10-28T05:51:40.422123Z",
     "start_time": "2021-10-28T05:51:40.398187Z"
    }
   },
   "outputs": [],
   "source": [
    "final_rfm.to_csv('../data/final_RFM_1028.csv')"
   ]
  },
  {
   "cell_type": "code",
   "execution_count": null,
   "id": "37f42e94",
   "metadata": {},
   "outputs": [],
   "source": []
  }
 ],
 "metadata": {
  "kernelspec": {
   "display_name": "Python 3 (ipykernel)",
   "language": "python",
   "name": "python3"
  },
  "language_info": {
   "codemirror_mode": {
    "name": "ipython",
    "version": 3
   },
   "file_extension": ".py",
   "mimetype": "text/x-python",
   "name": "python",
   "nbconvert_exporter": "python",
   "pygments_lexer": "ipython3",
   "version": "3.7.10"
  },
  "nbTranslate": {
   "displayLangs": [
    "*"
   ],
   "hotkey": "alt-t",
   "langInMainMenu": true,
   "sourceLang": "en",
   "targetLang": "fr",
   "useGoogleTranslate": true
  },
  "toc": {
   "base_numbering": 1,
   "nav_menu": {},
   "number_sections": true,
   "sideBar": true,
   "skip_h1_title": false,
   "title_cell": "Table of Contents",
   "title_sidebar": "Contents",
   "toc_cell": false,
   "toc_position": {},
   "toc_section_display": true,
   "toc_window_display": false
  },
  "varInspector": {
   "cols": {
    "lenName": 16,
    "lenType": 16,
    "lenVar": 40
   },
   "kernels_config": {
    "python": {
     "delete_cmd_postfix": "",
     "delete_cmd_prefix": "del ",
     "library": "var_list.py",
     "varRefreshCmd": "print(var_dic_list())"
    },
    "r": {
     "delete_cmd_postfix": ") ",
     "delete_cmd_prefix": "rm(",
     "library": "var_list.r",
     "varRefreshCmd": "cat(var_dic_list()) "
    }
   },
   "types_to_exclude": [
    "module",
    "function",
    "builtin_function_or_method",
    "instance",
    "_Feature"
   ],
   "window_display": false
  }
 },
 "nbformat": 4,
 "nbformat_minor": 5
}

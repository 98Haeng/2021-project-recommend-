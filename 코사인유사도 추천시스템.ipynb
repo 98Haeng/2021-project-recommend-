{
 "cells": [
  {
   "cell_type": "code",
   "execution_count": 1,
   "metadata": {},
   "outputs": [],
   "source": [
    "# 라이브러리 실행\n",
    "import pandas as pd\n",
    "import numpy as np\n",
    "import matplotlib.pyplot as plt\n",
    "import seaborn as sns\n",
    "from ast import literal_eval\n",
    "from sklearn.feature_extraction.text import TfidfVectorizer\n",
    "from sklearn.feature_extraction.text import CountVectorizer\n",
    "from sklearn.metrics.pairwise import cosine_similarity"
   ]
  },
  {
   "cell_type": "code",
   "execution_count": 2,
   "metadata": {},
   "outputs": [
    {
     "data": {
      "text/html": [
       "<div>\n",
       "<style scoped>\n",
       "    .dataframe tbody tr th:only-of-type {\n",
       "        vertical-align: middle;\n",
       "    }\n",
       "\n",
       "    .dataframe tbody tr th {\n",
       "        vertical-align: top;\n",
       "    }\n",
       "\n",
       "    .dataframe thead th {\n",
       "        text-align: right;\n",
       "    }\n",
       "</style>\n",
       "<table border=\"1\" class=\"dataframe\">\n",
       "  <thead>\n",
       "    <tr style=\"text-align: right;\">\n",
       "      <th></th>\n",
       "      <th>이미지링크</th>\n",
       "      <th>상품명</th>\n",
       "      <th>정상가</th>\n",
       "      <th>할인가</th>\n",
       "      <th>성별</th>\n",
       "      <th>카테고리</th>\n",
       "      <th>용도</th>\n",
       "    </tr>\n",
       "  </thead>\n",
       "  <tbody>\n",
       "    <tr>\n",
       "      <th>0</th>\n",
       "      <td>http://gdimg.gmarket.co.kr/1688878141/still/30...</td>\n",
       "      <td>[팬콧키즈]20%+10% 쿠폰 팬콧 주니어 윈터 아우터 기모 빅세일</td>\n",
       "      <td>59,600원</td>\n",
       "      <td>17,900원</td>\n",
       "      <td>공용</td>\n",
       "      <td>맨투맨</td>\n",
       "      <td>유아동공동의류</td>\n",
       "    </tr>\n",
       "    <tr>\n",
       "      <th>1</th>\n",
       "      <td>http://gdimg.gmarket.co.kr/2189175891/still/30...</td>\n",
       "      <td>[페리미츠]레노마키즈 페리미츠 겨울 아우터/맨투맨/팬츠外 70종</td>\n",
       "      <td>122,000원</td>\n",
       "      <td>36,600원</td>\n",
       "      <td>여성</td>\n",
       "      <td>아우터</td>\n",
       "      <td>여아의류</td>\n",
       "    </tr>\n",
       "    <tr>\n",
       "      <th>2</th>\n",
       "      <td>http://gdimg.gmarket.co.kr/337390758/still/300...</td>\n",
       "      <td>[버블트리]주니어 여아 의류 아동복 원피스 팬츠 티셔츠</td>\n",
       "      <td>45,900원</td>\n",
       "      <td>13,900원</td>\n",
       "      <td>여성</td>\n",
       "      <td>원피스</td>\n",
       "      <td>여아의류</td>\n",
       "    </tr>\n",
       "    <tr>\n",
       "      <th>3</th>\n",
       "      <td>http://gdimg.gmarket.co.kr/495818668/still/300...</td>\n",
       "      <td>[젤리스푼]아동복/아동의류/키즈경량패딩/레깅스/원피스/뽀글이</td>\n",
       "      <td>33,000원</td>\n",
       "      <td>9,900원</td>\n",
       "      <td>공용</td>\n",
       "      <td>상하복</td>\n",
       "      <td>유아동공동의류</td>\n",
       "    </tr>\n",
       "    <tr>\n",
       "      <th>4</th>\n",
       "      <td>http://gdimg.gmarket.co.kr/2254484613/still/30...</td>\n",
       "      <td>[휠라키즈](신세계강남점)휠라키즈 글로브 포켓맨투맨 2종</td>\n",
       "      <td>34,300원</td>\n",
       "      <td>27,100원</td>\n",
       "      <td>공용</td>\n",
       "      <td>맨투맨</td>\n",
       "      <td>유아동공동의류</td>\n",
       "    </tr>\n",
       "  </tbody>\n",
       "</table>\n",
       "</div>"
      ],
      "text/plain": [
       "                                               이미지링크  \\\n",
       "0  http://gdimg.gmarket.co.kr/1688878141/still/30...   \n",
       "1  http://gdimg.gmarket.co.kr/2189175891/still/30...   \n",
       "2  http://gdimg.gmarket.co.kr/337390758/still/300...   \n",
       "3  http://gdimg.gmarket.co.kr/495818668/still/300...   \n",
       "4  http://gdimg.gmarket.co.kr/2254484613/still/30...   \n",
       "\n",
       "                                     상품명       정상가      할인가  성별 카테고리       용도  \n",
       "0  [팬콧키즈]20%+10% 쿠폰 팬콧 주니어 윈터 아우터 기모 빅세일   59,600원  17,900원  공용  맨투맨  유아동공동의류  \n",
       "1    [페리미츠]레노마키즈 페리미츠 겨울 아우터/맨투맨/팬츠外 70종  122,000원  36,600원  여성  아우터     여아의류  \n",
       "2         [버블트리]주니어 여아 의류 아동복 원피스 팬츠 티셔츠   45,900원  13,900원  여성  원피스     여아의류  \n",
       "3      [젤리스푼]아동복/아동의류/키즈경량패딩/레깅스/원피스/뽀글이   33,000원   9,900원  공용  상하복  유아동공동의류  \n",
       "4        [휠라키즈](신세계강남점)휠라키즈 글로브 포켓맨투맨 2종   34,300원  27,100원  공용  맨투맨  유아동공동의류  "
      ]
     },
     "execution_count": 2,
     "metadata": {},
     "output_type": "execute_result"
    }
   ],
   "source": [
    "data=pd.read_excel('추천시스템용 유아복데이터.xlsx')\n",
    "data.head()"
   ]
  },
  {
   "cell_type": "code",
   "execution_count": 3,
   "metadata": {},
   "outputs": [
    {
     "data": {
      "text/plain": [
       "Index(['이미지링크', '상품명', '정상가', '할인가', '성별', '카테고리', '용도'], dtype='object')"
      ]
     },
     "execution_count": 3,
     "metadata": {},
     "output_type": "execute_result"
    }
   ],
   "source": [
    "data.columns"
   ]
  },
  {
   "cell_type": "code",
   "execution_count": 4,
   "metadata": {},
   "outputs": [
    {
     "data": {
      "text/html": [
       "<div>\n",
       "<style scoped>\n",
       "    .dataframe tbody tr th:only-of-type {\n",
       "        vertical-align: middle;\n",
       "    }\n",
       "\n",
       "    .dataframe tbody tr th {\n",
       "        vertical-align: top;\n",
       "    }\n",
       "\n",
       "    .dataframe thead th {\n",
       "        text-align: right;\n",
       "    }\n",
       "</style>\n",
       "<table border=\"1\" class=\"dataframe\">\n",
       "  <thead>\n",
       "    <tr style=\"text-align: right;\">\n",
       "      <th></th>\n",
       "      <th>상품명</th>\n",
       "      <th>성별</th>\n",
       "      <th>카테고리</th>\n",
       "      <th>용도</th>\n",
       "    </tr>\n",
       "  </thead>\n",
       "  <tbody>\n",
       "    <tr>\n",
       "      <th>0</th>\n",
       "      <td>[팬콧키즈]20%+10% 쿠폰 팬콧 주니어 윈터 아우터 기모 빅세일</td>\n",
       "      <td>공용</td>\n",
       "      <td>맨투맨</td>\n",
       "      <td>유아동공동의류</td>\n",
       "    </tr>\n",
       "    <tr>\n",
       "      <th>1</th>\n",
       "      <td>[페리미츠]레노마키즈 페리미츠 겨울 아우터/맨투맨/팬츠外 70종</td>\n",
       "      <td>여성</td>\n",
       "      <td>아우터</td>\n",
       "      <td>여아의류</td>\n",
       "    </tr>\n",
       "    <tr>\n",
       "      <th>2</th>\n",
       "      <td>[버블트리]주니어 여아 의류 아동복 원피스 팬츠 티셔츠</td>\n",
       "      <td>여성</td>\n",
       "      <td>원피스</td>\n",
       "      <td>여아의류</td>\n",
       "    </tr>\n",
       "  </tbody>\n",
       "</table>\n",
       "</div>"
      ],
      "text/plain": [
       "                                     상품명  성별 카테고리       용도\n",
       "0  [팬콧키즈]20%+10% 쿠폰 팬콧 주니어 윈터 아우터 기모 빅세일  공용  맨투맨  유아동공동의류\n",
       "1    [페리미츠]레노마키즈 페리미츠 겨울 아우터/맨투맨/팬츠外 70종  여성  아우터     여아의류\n",
       "2         [버블트리]주니어 여아 의류 아동복 원피스 팬츠 티셔츠  여성  원피스     여아의류"
      ]
     },
     "execution_count": 4,
     "metadata": {},
     "output_type": "execute_result"
    }
   ],
   "source": [
    "data=data[['상품명','성별','카테고리','용도']]\n",
    "data.head(3)"
   ]
  },
  {
   "cell_type": "code",
   "execution_count": 5,
   "metadata": {},
   "outputs": [],
   "source": [
    "# data['정상가']=data['정상가'].str.replace(pat=r'[ㄱ-ㅣ가-힣]+', repl= r'', regex=True)\n",
    "# data['할인가']=data['할인가'].str.replace(pat=r'[ㄱ-ㅣ가-힣]+', repl= r'', regex=True)"
   ]
  },
  {
   "cell_type": "code",
   "execution_count": 6,
   "metadata": {},
   "outputs": [
    {
     "data": {
      "text/html": [
       "<div>\n",
       "<style scoped>\n",
       "    .dataframe tbody tr th:only-of-type {\n",
       "        vertical-align: middle;\n",
       "    }\n",
       "\n",
       "    .dataframe tbody tr th {\n",
       "        vertical-align: top;\n",
       "    }\n",
       "\n",
       "    .dataframe thead th {\n",
       "        text-align: right;\n",
       "    }\n",
       "</style>\n",
       "<table border=\"1\" class=\"dataframe\">\n",
       "  <thead>\n",
       "    <tr style=\"text-align: right;\">\n",
       "      <th></th>\n",
       "      <th>상품명</th>\n",
       "      <th>성별_공용</th>\n",
       "      <th>성별_남성</th>\n",
       "      <th>성별_여성</th>\n",
       "      <th>카테고리_내의</th>\n",
       "      <th>카테고리_레깅스</th>\n",
       "      <th>카테고리_맨투맨</th>\n",
       "      <th>카테고리_상의</th>\n",
       "      <th>카테고리_상하복</th>\n",
       "      <th>카테고리_상하의</th>\n",
       "      <th>...</th>\n",
       "      <th>카테고리_하의</th>\n",
       "      <th>카테고리_후드티</th>\n",
       "      <th>용도_남아의류</th>\n",
       "      <th>용도_신생아의류</th>\n",
       "      <th>용도_여성의류</th>\n",
       "      <th>용도_여아의류</th>\n",
       "      <th>용도_유아공동의류</th>\n",
       "      <th>용도_유아동공동의류</th>\n",
       "      <th>용도_유아동내의/잠옷</th>\n",
       "      <th>용도_유아동스포츠의류</th>\n",
       "    </tr>\n",
       "  </thead>\n",
       "  <tbody>\n",
       "    <tr>\n",
       "      <th>0</th>\n",
       "      <td>[팬콧키즈]20%+10% 쿠폰 팬콧 주니어 윈터 아우터 기모 빅세일</td>\n",
       "      <td>1</td>\n",
       "      <td>0</td>\n",
       "      <td>0</td>\n",
       "      <td>0</td>\n",
       "      <td>0</td>\n",
       "      <td>1</td>\n",
       "      <td>0</td>\n",
       "      <td>0</td>\n",
       "      <td>0</td>\n",
       "      <td>...</td>\n",
       "      <td>0</td>\n",
       "      <td>0</td>\n",
       "      <td>0</td>\n",
       "      <td>0</td>\n",
       "      <td>0</td>\n",
       "      <td>0</td>\n",
       "      <td>0</td>\n",
       "      <td>1</td>\n",
       "      <td>0</td>\n",
       "      <td>0</td>\n",
       "    </tr>\n",
       "    <tr>\n",
       "      <th>1</th>\n",
       "      <td>[페리미츠]레노마키즈 페리미츠 겨울 아우터/맨투맨/팬츠外 70종</td>\n",
       "      <td>0</td>\n",
       "      <td>0</td>\n",
       "      <td>1</td>\n",
       "      <td>0</td>\n",
       "      <td>0</td>\n",
       "      <td>0</td>\n",
       "      <td>0</td>\n",
       "      <td>0</td>\n",
       "      <td>0</td>\n",
       "      <td>...</td>\n",
       "      <td>0</td>\n",
       "      <td>0</td>\n",
       "      <td>0</td>\n",
       "      <td>0</td>\n",
       "      <td>0</td>\n",
       "      <td>1</td>\n",
       "      <td>0</td>\n",
       "      <td>0</td>\n",
       "      <td>0</td>\n",
       "      <td>0</td>\n",
       "    </tr>\n",
       "    <tr>\n",
       "      <th>2</th>\n",
       "      <td>[버블트리]주니어 여아 의류 아동복 원피스 팬츠 티셔츠</td>\n",
       "      <td>0</td>\n",
       "      <td>0</td>\n",
       "      <td>1</td>\n",
       "      <td>0</td>\n",
       "      <td>0</td>\n",
       "      <td>0</td>\n",
       "      <td>0</td>\n",
       "      <td>0</td>\n",
       "      <td>0</td>\n",
       "      <td>...</td>\n",
       "      <td>0</td>\n",
       "      <td>0</td>\n",
       "      <td>0</td>\n",
       "      <td>0</td>\n",
       "      <td>0</td>\n",
       "      <td>1</td>\n",
       "      <td>0</td>\n",
       "      <td>0</td>\n",
       "      <td>0</td>\n",
       "      <td>0</td>\n",
       "    </tr>\n",
       "    <tr>\n",
       "      <th>3</th>\n",
       "      <td>[젤리스푼]아동복/아동의류/키즈경량패딩/레깅스/원피스/뽀글이</td>\n",
       "      <td>1</td>\n",
       "      <td>0</td>\n",
       "      <td>0</td>\n",
       "      <td>0</td>\n",
       "      <td>0</td>\n",
       "      <td>0</td>\n",
       "      <td>0</td>\n",
       "      <td>1</td>\n",
       "      <td>0</td>\n",
       "      <td>...</td>\n",
       "      <td>0</td>\n",
       "      <td>0</td>\n",
       "      <td>0</td>\n",
       "      <td>0</td>\n",
       "      <td>0</td>\n",
       "      <td>0</td>\n",
       "      <td>0</td>\n",
       "      <td>1</td>\n",
       "      <td>0</td>\n",
       "      <td>0</td>\n",
       "    </tr>\n",
       "    <tr>\n",
       "      <th>4</th>\n",
       "      <td>[휠라키즈](신세계강남점)휠라키즈 글로브 포켓맨투맨 2종</td>\n",
       "      <td>1</td>\n",
       "      <td>0</td>\n",
       "      <td>0</td>\n",
       "      <td>0</td>\n",
       "      <td>0</td>\n",
       "      <td>1</td>\n",
       "      <td>0</td>\n",
       "      <td>0</td>\n",
       "      <td>0</td>\n",
       "      <td>...</td>\n",
       "      <td>0</td>\n",
       "      <td>0</td>\n",
       "      <td>0</td>\n",
       "      <td>0</td>\n",
       "      <td>0</td>\n",
       "      <td>0</td>\n",
       "      <td>0</td>\n",
       "      <td>1</td>\n",
       "      <td>0</td>\n",
       "      <td>0</td>\n",
       "    </tr>\n",
       "  </tbody>\n",
       "</table>\n",
       "<p>5 rows × 25 columns</p>\n",
       "</div>"
      ],
      "text/plain": [
       "                                     상품명  성별_공용  성별_남성  성별_여성  카테고리_내의  \\\n",
       "0  [팬콧키즈]20%+10% 쿠폰 팬콧 주니어 윈터 아우터 기모 빅세일      1      0      0        0   \n",
       "1    [페리미츠]레노마키즈 페리미츠 겨울 아우터/맨투맨/팬츠外 70종      0      0      1        0   \n",
       "2         [버블트리]주니어 여아 의류 아동복 원피스 팬츠 티셔츠      0      0      1        0   \n",
       "3      [젤리스푼]아동복/아동의류/키즈경량패딩/레깅스/원피스/뽀글이      1      0      0        0   \n",
       "4        [휠라키즈](신세계강남점)휠라키즈 글로브 포켓맨투맨 2종      1      0      0        0   \n",
       "\n",
       "   카테고리_레깅스  카테고리_맨투맨  카테고리_상의  카테고리_상하복  카테고리_상하의  ...  카테고리_하의  카테고리_후드티  \\\n",
       "0         0         1        0         0         0  ...        0         0   \n",
       "1         0         0        0         0         0  ...        0         0   \n",
       "2         0         0        0         0         0  ...        0         0   \n",
       "3         0         0        0         1         0  ...        0         0   \n",
       "4         0         1        0         0         0  ...        0         0   \n",
       "\n",
       "   용도_남아의류  용도_신생아의류  용도_여성의류  용도_여아의류  용도_유아공동의류  용도_유아동공동의류  용도_유아동내의/잠옷  \\\n",
       "0        0         0        0        0          0           1            0   \n",
       "1        0         0        0        1          0           0            0   \n",
       "2        0         0        0        1          0           0            0   \n",
       "3        0         0        0        0          0           1            0   \n",
       "4        0         0        0        0          0           1            0   \n",
       "\n",
       "   용도_유아동스포츠의류  \n",
       "0            0  \n",
       "1            0  \n",
       "2            0  \n",
       "3            0  \n",
       "4            0  \n",
       "\n",
       "[5 rows x 25 columns]"
      ]
     },
     "execution_count": 6,
     "metadata": {},
     "output_type": "execute_result"
    }
   ],
   "source": [
    "df=pd.get_dummies(data=data,columns=['성별'],prefix='성별')\n",
    "df=pd.get_dummies(data=df,columns=['카테고리'],prefix='카테고리')\n",
    "df=pd.get_dummies(data=df,columns=['용도'],prefix='용도')\n",
    "df.head()"
   ]
  },
  {
   "cell_type": "code",
   "execution_count": 7,
   "metadata": {},
   "outputs": [],
   "source": [
    "from numpy import dot\n",
    "from numpy.linalg import norm\n",
    "import numpy as np\n",
    "def cos_sim(A, B):\n",
    "       return dot(A, B)/(norm(A)*norm(B))"
   ]
  },
  {
   "cell_type": "code",
   "execution_count": 8,
   "metadata": {},
   "outputs": [],
   "source": [
    "df.set_index(['상품명'],inplace=True)"
   ]
  },
  {
   "cell_type": "code",
   "execution_count": 9,
   "metadata": {},
   "outputs": [],
   "source": [
    "from sklearn.metrics.pairwise import linear_kernel\n",
    "cosine_sim = linear_kernel(df, df)"
   ]
  },
  {
   "cell_type": "code",
   "execution_count": 15,
   "metadata": {},
   "outputs": [],
   "source": [
    "from sklearn.metrics.pairwise import cosine_similarity"
   ]
  },
  {
   "cell_type": "code",
   "execution_count": 16,
   "metadata": {},
   "outputs": [],
   "source": [
    "cosine_sim=cosine_similarity(df,df)"
   ]
  },
  {
   "cell_type": "code",
   "execution_count": 17,
   "metadata": {},
   "outputs": [
    {
     "data": {
      "text/plain": [
       "array([[1.        , 0.        , 0.        , ..., 0.66666667, 0.33333333,\n",
       "        0.        ],\n",
       "       [0.        , 1.        , 0.66666667, ..., 0.        , 0.        ,\n",
       "        0.66666667],\n",
       "       [0.        , 0.66666667, 1.        , ..., 0.        , 0.        ,\n",
       "        1.        ],\n",
       "       ...,\n",
       "       [0.66666667, 0.        , 0.        , ..., 1.        , 0.33333333,\n",
       "        0.        ],\n",
       "       [0.33333333, 0.        , 0.        , ..., 0.33333333, 1.        ,\n",
       "        0.        ],\n",
       "       [0.        , 0.66666667, 1.        , ..., 0.        , 0.        ,\n",
       "        1.        ]])"
      ]
     },
     "execution_count": 17,
     "metadata": {},
     "output_type": "execute_result"
    }
   ],
   "source": [
    "cosine_sim"
   ]
  },
  {
   "cell_type": "code",
   "execution_count": 12,
   "metadata": {},
   "outputs": [
    {
     "data": {
      "text/plain": [
       "array([[3., 0., 0., ..., 2., 1., 0.],\n",
       "       [0., 3., 2., ..., 0., 0., 2.],\n",
       "       [0., 2., 3., ..., 0., 0., 3.],\n",
       "       ...,\n",
       "       [2., 0., 0., ..., 3., 1., 0.],\n",
       "       [1., 0., 0., ..., 1., 3., 0.],\n",
       "       [0., 2., 3., ..., 0., 0., 3.]])"
      ]
     },
     "execution_count": 12,
     "metadata": {},
     "output_type": "execute_result"
    }
   ],
   "source": [
    "cosine_sim"
   ]
  },
  {
   "cell_type": "code",
   "execution_count": 13,
   "metadata": {},
   "outputs": [
    {
     "data": {
      "text/plain": [
       "(100, 100)"
      ]
     },
     "execution_count": 13,
     "metadata": {},
     "output_type": "execute_result"
    }
   ],
   "source": [
    "cosine_sim.shape"
   ]
  },
  {
   "cell_type": "code",
   "execution_count": 77,
   "metadata": {},
   "outputs": [
    {
     "name": "stdout",
     "output_type": "stream",
     "text": [
      "상품명\n",
      "[팬콧키즈]20%+10% 쿠폰 팬콧 주니어 윈터 아우터 기모 빅세일    0\n",
      "[페리미츠]레노마키즈 페리미츠 겨울 아우터/맨투맨/팬츠外 70종      1\n",
      "[버블트리]주니어 여아 의류 아동복 원피스 팬츠 티셔츠           2\n",
      "[젤리스푼]아동복/아동의류/키즈경량패딩/레깅스/원피스/뽀글이        3\n",
      "[휠라키즈](신세계강남점)휠라키즈 글로브 포켓맨투맨 2종          4\n",
      "dtype: int64\n"
     ]
    }
   ],
   "source": [
    "indices =pd.Series(range(100),index=df.index)\n",
    "print(indices.head())"
   ]
  },
  {
   "cell_type": "code",
   "execution_count": 78,
   "metadata": {},
   "outputs": [
    {
     "name": "stdout",
     "output_type": "stream",
     "text": [
      "0    [팬콧키즈]20%+10% 쿠폰 팬콧 주니어 윈터 아우터 기모 빅세일\n",
      "1      [페리미츠]레노마키즈 페리미츠 겨울 아우터/맨투맨/팬츠外 70종\n",
      "2           [버블트리]주니어 여아 의류 아동복 원피스 팬츠 티셔츠\n",
      "3        [젤리스푼]아동복/아동의류/키즈경량패딩/레깅스/원피스/뽀글이\n",
      "4          [휠라키즈](신세계강남점)휠라키즈 글로브 포켓맨투맨 2종\n",
      "Name: 상품명, dtype: object\n"
     ]
    }
   ],
   "source": [
    "indices1=pd.Series(df.index)\n",
    "print(indices1.head())"
   ]
  },
  {
   "cell_type": "code",
   "execution_count": 84,
   "metadata": {},
   "outputs": [],
   "source": [
    "def get_recommendations(title, cosine_sim=cosine_sim):\n",
    "    # 선택한 상품의 타이틀로부터 해당되는 인덱스를 받아옵니다. 이제 선택한 영화를 가지고 연산할 수 있습니다.\n",
    "    idx = indices[title]\n",
    "\n",
    "    # 모든 영화에 대해서 해당 상품과의 유사도를 구합니다.\n",
    "    sim_scores = list(enumerate(cosine_sim[idx]))\n",
    "\n",
    "    # 유사도에 따라 상품들을 정렬합니다.\n",
    "    sim_scores = sorted(sim_scores, key=lambda x: x[1], reverse=True)\n",
    "\n",
    "    # 가장 유사한 10개의 상품을 받아옵니다.\n",
    "    sim_scores = sim_scores[1:11]\n",
    "\n",
    "    # 가장 유사한 10개의 상품의 인덱스를 받아옵니다.\n",
    "    item_indices = [i[0] for i in sim_scores]\n",
    "    \n",
    "    result=pd.DataFrame(indices1[item_indices])\n",
    "    laster=pd.merge(result,data,how='left' )\n",
    "#     laster=laster.drop_duplicates(['상품명'])\n",
    "\n",
    "    \n",
    "    \n",
    "    # 가장 유사한 10개의 상품명 리턴합니다.\n",
    "    return laster"
   ]
  },
  {
   "cell_type": "code",
   "execution_count": 85,
   "metadata": {},
   "outputs": [
    {
     "data": {
      "text/html": [
       "<div>\n",
       "<style scoped>\n",
       "    .dataframe tbody tr th:only-of-type {\n",
       "        vertical-align: middle;\n",
       "    }\n",
       "\n",
       "    .dataframe tbody tr th {\n",
       "        vertical-align: top;\n",
       "    }\n",
       "\n",
       "    .dataframe thead th {\n",
       "        text-align: right;\n",
       "    }\n",
       "</style>\n",
       "<table border=\"1\" class=\"dataframe\">\n",
       "  <thead>\n",
       "    <tr style=\"text-align: right;\">\n",
       "      <th></th>\n",
       "      <th>상품명</th>\n",
       "      <th>성별</th>\n",
       "      <th>카테고리</th>\n",
       "      <th>용도</th>\n",
       "    </tr>\n",
       "  </thead>\n",
       "  <tbody>\n",
       "    <tr>\n",
       "      <th>0</th>\n",
       "      <td>[휠라키즈](신세계강남점)휠라키즈 글로브 포켓맨투맨 2종</td>\n",
       "      <td>공용</td>\n",
       "      <td>맨투맨</td>\n",
       "      <td>유아동공동의류</td>\n",
       "    </tr>\n",
       "    <tr>\n",
       "      <th>1</th>\n",
       "      <td>[지오다노]20%+7% 지오다노주니어 겨울 기모 셋업/아우터/실내복</td>\n",
       "      <td>공용</td>\n",
       "      <td>맨투맨</td>\n",
       "      <td>유아동공동의류</td>\n",
       "    </tr>\n",
       "    <tr>\n",
       "      <th>2</th>\n",
       "      <td>[블루독베이비]레오파드맨투맨SET외 5종 택1 40C70-672-04-BON</td>\n",
       "      <td>공용</td>\n",
       "      <td>맨투맨</td>\n",
       "      <td>유아동공동의류</td>\n",
       "    </tr>\n",
       "    <tr>\n",
       "      <th>3</th>\n",
       "      <td>[앤디애플]겨울오픈/아동복/상하복/뽀글이/기모/티셔츠외</td>\n",
       "      <td>공용</td>\n",
       "      <td>맨투맨</td>\n",
       "      <td>유아동공동의류</td>\n",
       "    </tr>\n",
       "    <tr>\n",
       "      <th>4</th>\n",
       "      <td>[젤리스푼]아동복/아동의류/키즈경량패딩/레깅스/원피스/뽀글이</td>\n",
       "      <td>공용</td>\n",
       "      <td>상하복</td>\n",
       "      <td>유아동공동의류</td>\n",
       "    </tr>\n",
       "    <tr>\n",
       "      <th>5</th>\n",
       "      <td>[팬콧]무료반품 팬콧키즈 가을 가격인하겨울 프리뷰</td>\n",
       "      <td>공용</td>\n",
       "      <td>상하복</td>\n",
       "      <td>유아동공동의류</td>\n",
       "    </tr>\n",
       "    <tr>\n",
       "      <th>6</th>\n",
       "      <td>키즈꼬모 겨울신상 활동복 등원룩 상하세트 모음</td>\n",
       "      <td>공용</td>\n",
       "      <td>상하복</td>\n",
       "      <td>유아동공동의류</td>\n",
       "    </tr>\n",
       "    <tr>\n",
       "      <th>7</th>\n",
       "      <td>[네파키즈]파일 플리스 자켓 KHF6151</td>\n",
       "      <td>공용</td>\n",
       "      <td>아우터</td>\n",
       "      <td>유아동공동의류</td>\n",
       "    </tr>\n",
       "    <tr>\n",
       "      <th>8</th>\n",
       "      <td>코코비 겨울신상 추가 가을 클리어런스 상하복 티셔츠</td>\n",
       "      <td>공용</td>\n",
       "      <td>상하복</td>\n",
       "      <td>유아동공동의류</td>\n",
       "    </tr>\n",
       "    <tr>\n",
       "      <th>9</th>\n",
       "      <td>[베베쥬]20%+15%쿠폰할인/빅세일특가/아우터/맨투맨/수면잠옷</td>\n",
       "      <td>공용</td>\n",
       "      <td>자켓</td>\n",
       "      <td>유아동공동의류</td>\n",
       "    </tr>\n",
       "  </tbody>\n",
       "</table>\n",
       "</div>"
      ],
      "text/plain": [
       "                                          상품명  성별 카테고리       용도\n",
       "0             [휠라키즈](신세계강남점)휠라키즈 글로브 포켓맨투맨 2종  공용  맨투맨  유아동공동의류\n",
       "1       [지오다노]20%+7% 지오다노주니어 겨울 기모 셋업/아우터/실내복  공용  맨투맨  유아동공동의류\n",
       "2  [블루독베이비]레오파드맨투맨SET외 5종 택1 40C70-672-04-BON  공용  맨투맨  유아동공동의류\n",
       "3              [앤디애플]겨울오픈/아동복/상하복/뽀글이/기모/티셔츠외  공용  맨투맨  유아동공동의류\n",
       "4           [젤리스푼]아동복/아동의류/키즈경량패딩/레깅스/원피스/뽀글이  공용  상하복  유아동공동의류\n",
       "5                 [팬콧]무료반품 팬콧키즈 가을 가격인하겨울 프리뷰  공용  상하복  유아동공동의류\n",
       "6                   키즈꼬모 겨울신상 활동복 등원룩 상하세트 모음  공용  상하복  유아동공동의류\n",
       "7                     [네파키즈]파일 플리스 자켓 KHF6151  공용  아우터  유아동공동의류\n",
       "8                코코비 겨울신상 추가 가을 클리어런스 상하복 티셔츠  공용  상하복  유아동공동의류\n",
       "9         [베베쥬]20%+15%쿠폰할인/빅세일특가/아우터/맨투맨/수면잠옷  공용   자켓  유아동공동의류"
      ]
     },
     "execution_count": 85,
     "metadata": {},
     "output_type": "execute_result"
    }
   ],
   "source": [
    "B = get_recommendations('[팬콧키즈]20%+10% 쿠폰 팬콧 주니어 윈터 아우터 기모 빅세일')\n",
    "B"
   ]
  },
  {
   "cell_type": "code",
   "execution_count": null,
   "metadata": {},
   "outputs": [],
   "source": []
  }
 ],
 "metadata": {
  "kernelspec": {
   "display_name": "Python 3",
   "language": "python",
   "name": "python3"
  },
  "language_info": {
   "codemirror_mode": {
    "name": "ipython",
    "version": 3
   },
   "file_extension": ".py",
   "mimetype": "text/x-python",
   "name": "python",
   "nbconvert_exporter": "python",
   "pygments_lexer": "ipython3",
   "version": "3.8.5"
  }
 },
 "nbformat": 4,
 "nbformat_minor": 4
}
